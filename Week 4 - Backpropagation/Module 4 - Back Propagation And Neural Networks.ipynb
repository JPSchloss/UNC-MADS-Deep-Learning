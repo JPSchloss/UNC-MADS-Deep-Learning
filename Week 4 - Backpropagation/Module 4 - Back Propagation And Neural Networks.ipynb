{
 "cells": [
  {
   "cell_type": "markdown",
   "id": "bdc1f1a4",
   "metadata": {},
   "source": [
    "# Backpropagation and Neural Networks"
   ]
  },
  {
   "cell_type": "markdown",
   "id": "908bccc8",
   "metadata": {},
   "source": [
    "Backpropagation, short for \"backward propagation of errors,\" is the key algorithm that powers the training of artificial neural networks. It is a way of enabling deep networks to learn complex patterns in data through more efficient weight updates. \n",
    "\n",
    "The core idea behind backpropagation is to compute how much each network parameter (such as a weight or bias) contributes to the prediction error and to then adjust these parameters to minimize the overall error. This process relies on the chain rule of calculus to propagate the error backwards through the network, starting from the output layer and moving towards the input layer.\n",
    "\n",
    "Backpropagation works by iteratively updating weights using gradient descent. The algorithm involves two key phases: **the forward pass**, where the input data is passed through the network to generate predictions, and **the backward pass**, where the error is calculated and gradients are computed to update the weights. By iteratively reducing the error with each epoch, the network \"learns\" the optimal parameters."
   ]
  },
  {
   "cell_type": "markdown",
   "id": "00d05f87",
   "metadata": {},
   "source": [
    "![](https://miro.medium.com/v2/resize:fit:1080/0*d9yJ5xIqdbDyjCYR.gif)"
   ]
  },
  {
   "cell_type": "markdown",
   "id": "7c28e61a",
   "metadata": {},
   "source": [
    "## Back Propogation and The Chain Rule\n",
    "\n",
    "A key mathematical concept underlying backpropagation is the **chain rule**, which is used to compute derivatives of composite functions. Since a neural network is essentially a nested composition of functions — where each layer applies an activation function to a linear combination of inputs — the chain rule enables us to compute how changes in a given parameter (like a weight or bias) affect the final network output.\n",
    "\n",
    "The chain rule states that if we have a composite function $f(x) = g(h(x))$, then the derivative of $f$ with respect to $x$ is given by:  \n",
    "$$\n",
    "\\frac{df}{dx} = \\frac{dg}{dh} \\cdot \\frac{dh}{dx}\n",
    "$$  \n",
    "\n",
    "In the context of backpropagation, this means that we can compute the gradient of the overall loss $L$ with respect to the weights $w$ by sequentially propagating gradients backward through the network. For example, if $L$ depends on the output of layer $k$ and layer $k$ depends on layer $k-1$, the chain rule tells us that:  \n",
    "\n",
    "$$\n",
    "\\frac{\\partial L}{\\partial w} = \\frac{\\partial L}{\\partial a_k} \\cdot \\frac{\\partial a_k}{\\partial z_k} \\cdot \\frac{\\partial z_k}{\\partial w}\n",
    "$$  \n",
    "\n",
    "where:\n",
    "- $a_k$ is the activation of the layer,\n",
    "- $z_k$ is the linear combination of inputs to that layer, and\n",
    "- $w$ represents the weights connecting to the layer.\n",
    "\n",
    "By applying the chain rule iteratively from the output layer back to the input layer, backpropagation efficiently computes the gradients needed to update all the parameters in the network. This is the key to optimizing deep networks through gradient descent.\n"
   ]
  },
  {
   "cell_type": "markdown",
   "id": "2beb5165",
   "metadata": {},
   "source": [
    "## Simple Backpropogation Example"
   ]
  },
  {
   "cell_type": "markdown",
   "id": "ec9e8356",
   "metadata": {},
   "source": [
    "### Network Setup\n",
    "\n",
    "Let’s consider a simple neural network with:\n",
    "- 1 input layer (2 features),\n",
    "- 1 hidden layer (2 neurons), and\n",
    "- 1 output neuron.\n",
    "\n",
    "We will manually walk through the **forward pass** and **backpropagation** using the following data:\n",
    "\n",
    "**Inputs:**  \n",
    "$$\n",
    "X = \\begin{bmatrix} 0.5 \\\\ 0.2 \\end{bmatrix}\n",
    "$$\n",
    "\n",
    "**True output:** $ y = 1 $\n",
    "\n",
    "**Weights and biases:**  \n",
    "$$\n",
    "W_1 = \\begin{bmatrix} 0.4 & 0.1 \\\\ 0.3 & 0.7 \\end{bmatrix}, \\quad b_1 = \\begin{bmatrix} 0.1 \\\\ 0.2 \\end{bmatrix}\n",
    "$$  \n",
    "\n",
    "$$\n",
    "W_2 = \\begin{bmatrix} 0.5 & 0.6 \\end{bmatrix}, \\quad b_2 = 0.3\n",
    "$$\n",
    "\n",
    "### Walkthrough:\n",
    "\n",
    "#### Forward Pass:\n",
    "Compute the activations $ a_1 $ and output $ a_2 $.\n",
    "\n",
    "#### Loss Calculation:\n",
    "Compute the error using a loss function, like **Mean Squared Error**:  \n",
    "$$\n",
    "L = \\frac{1}{2} (a_2 - y)^2\n",
    "$$\n",
    "\n",
    "#### Backward Pass:  \n",
    "Compute gradients using the chain rule as described in the backpropagation section.\n",
    "\n",
    "#### Weight Updates:\n",
    "Update the weights using gradient descent, where $ \\eta $ is the learning rate:  \n",
    "\n",
    "$$\n",
    "W^{(l)} = W^{(l)} - \\eta \\frac{\\partial L}{\\partial W^{(l)}}\n",
    "$$  \n",
    "\n",
    "\n"
   ]
  },
  {
   "cell_type": "markdown",
   "id": "32bd36fe",
   "metadata": {},
   "source": [
    "## The Forward Pass"
   ]
  },
  {
   "cell_type": "markdown",
   "id": "a17f8187",
   "metadata": {},
   "source": [
    "In a neural network, the **forward pass** is the process of passing the input data through the network to produce an output. The input is propagated layer by layer through **linear transformations** and **non-linear activation functions** until a final prediction is obtained.\n",
    "\n",
    "At each layer $ l $, the input is transformed using the following steps:\n",
    "\n",
    "---\n",
    "\n",
    "#### 1. Linear Transformation:\n",
    "The inputs are multiplied by weights and added to biases:  \n",
    "$$\n",
    "z^{(l)} = W^{(l)} \\cdot a^{(l-1)} + b^{(l)}\n",
    "$$  \n",
    "\n",
    "where:  \n",
    "- $ z^{(l)} $ is the pre-activation value of layer $ l $,  \n",
    "- $ W^{(l)} $ is the weight matrix for layer $ l $,  \n",
    "- $ a^{(l-1)} $ is the activation from the previous layer, and  \n",
    "- $ b^{(l)} $ is the bias vector for layer $ l $.\n",
    "\n",
    "---\n",
    "\n",
    "#### **2. Activation Function:**  \n",
    "A non-linear activation function is applied to the pre-activation $ z^{(l)} $ to get the activation of the current layer:  \n",
    "$$\n",
    "a^{(l)} = \\sigma(z^{(l)})\n",
    "$$  \n",
    "\n",
    "Common activation functions include sigmoid, ReLU, and tanh.\n"
   ]
  },
  {
   "cell_type": "code",
   "execution_count": 1,
   "id": "01a79bb0",
   "metadata": {
    "scrolled": true
   },
   "outputs": [
    {
     "name": "stdout",
     "output_type": "stream",
     "text": [
      "Output of the neural network: [[0.72346724]]\n"
     ]
    }
   ],
   "source": [
    "import numpy as np\n",
    "\n",
    "# Define the sigmoid activation function\n",
    "def sigmoid(z):\n",
    "    return 1 / (1 + np.exp(-z))\n",
    "\n",
    "# Input data (2 features, 1 sample)\n",
    "X = np.array([[0.5], [0.2]])\n",
    "\n",
    "# Initialize weights and biases for a 2-layer neural network\n",
    "W1 = np.array([[0.4, 0.1], [0.3, 0.7]])  # Weights for the hidden layer\n",
    "b1 = np.array([[0.1], [0.2]])            # Biases for the hidden layer\n",
    "\n",
    "W2 = np.array([[0.5, 0.6]])              # Weights for the output layer\n",
    "b2 = np.array([[0.3]])                   # Bias for the output layer\n",
    "\n",
    "# Forward pass\n",
    "z1 = np.dot(W1, X) + b1  # Linear transformation for the hidden layer\n",
    "a1 = sigmoid(z1)         # Activation for the hidden layer\n",
    "\n",
    "z2 = np.dot(W2, a1) + b2  # Linear transformation for the output layer\n",
    "a2 = sigmoid(z2)          # Activation for the output layer (final prediction)\n",
    "\n",
    "print(\"Output of the neural network:\", a2)"
   ]
  },
  {
   "cell_type": "markdown",
   "id": "48262ab4",
   "metadata": {},
   "source": [
    "## Backpropagation"
   ]
  },
  {
   "cell_type": "markdown",
   "id": "7e24ef9d",
   "metadata": {},
   "source": [
    "The goal of backpropagation is to calculate the **gradient of the loss function** with respect to the network’s weights and biases, so that these parameters can be updated using gradient descent. The key to backpropagation is the **chain rule**, which allows us to propagate the error backward through the network.\n",
    "\n",
    "\n",
    "1. **Compute the Loss:**  \n",
    "    Assume a loss function $L$ (e.g., Mean Squared Error or Cross-Entropy Loss).\n",
    "\n",
    "2. **Compute Output Error:**  \n",
    "    Compute the derivative of the loss with respect to the output activation $a^{(L)}$:\n",
    "\n",
    "    $$\n",
    "    \\delta^{(L)} = \\frac{\\partial L}{\\partial a^{(L)}} \\cdot \\sigma'(z^{(L)})\n",
    "    $$\n",
    "\n",
    "    Here, $\\delta^{(L)}$ is the error signal at the output layer, and $\\sigma'(z)$ is the derivative of the activation function.\n",
    "\n",
    "3. **Backpropagate Error:**  \n",
    "    For each previous layer $l$, propagate the error backward:\n",
    "\n",
    "    $$\n",
    "    \\delta^{(l)} = \\big( W^{(l+1)} \\big)^T \\cdot \\delta^{(l+1)} \\cdot \\sigma'(z^{(l)})\n",
    "    $$\n",
    "\n",
    "4. **Calculate Gradients:**  \n",
    "    The gradients of the loss with respect to the weights and biases are:\n",
    "\n",
    "    $$\n",
    "    \\frac{\\partial L}{\\partial W^{(l)}} = \\delta^{(l)} \\cdot \\big( a^{(l-1)} \\big)^T \\quad \\text{and} \\quad \\frac{\\partial L}{\\partial b^{(l)}} = \\delta^{(l)}\n",
    "    $$\n"
   ]
  },
  {
   "cell_type": "code",
   "execution_count": 2,
   "id": "431dbd43",
   "metadata": {},
   "outputs": [
    {
     "name": "stdout",
     "output_type": "stream",
     "text": [
      "Gradients for W1: [[-0.00337071 -0.00134828]\n",
      " [-0.00390986 -0.00156394]]\n",
      "Gradients for W2: [[-0.03205042 -0.03430665]]\n"
     ]
    }
   ],
   "source": [
    "# Define the derivative of the sigmoid function\n",
    "def sigmoid_derivative(z):\n",
    "    return sigmoid(z) * (1 - sigmoid(z))\n",
    "\n",
    "# Assume the network's output and the true label\n",
    "y_true = np.array([[1]])  # True label\n",
    "loss_derivative = a2 - y_true  # Derivative of the Mean Squared Error loss\n",
    "\n",
    "# Backpropagation\n",
    "delta2 = loss_derivative * sigmoid_derivative(z2)  # Output layer error\n",
    "dW2 = np.dot(delta2, a1.T)  # Gradient for W2\n",
    "db2 = delta2  # Gradient for b2\n",
    "\n",
    "delta1 = np.dot(W2.T, delta2) * sigmoid_derivative(z1)  # Hidden layer error\n",
    "dW1 = np.dot(delta1, X.T)  # Gradient for W1\n",
    "db1 = delta1  # Gradient for b1\n",
    "\n",
    "print(\"Gradients for W1:\", dW1)\n",
    "print(\"Gradients for W2:\", dW2)"
   ]
  },
  {
   "cell_type": "markdown",
   "id": "57e5833c",
   "metadata": {},
   "source": [
    "## Modern Code Example"
   ]
  },
  {
   "cell_type": "code",
   "execution_count": 25,
   "id": "c55365ca",
   "metadata": {},
   "outputs": [],
   "source": [
    "import tensorflow as tf\n",
    "from sklearn.datasets import load_iris\n",
    "from sklearn.model_selection import train_test_split\n",
    "from sklearn.preprocessing import StandardScaler"
   ]
  },
  {
   "cell_type": "markdown",
   "id": "986c8edf",
   "metadata": {},
   "source": [
    "#### Prepare The Data"
   ]
  },
  {
   "cell_type": "code",
   "execution_count": 26,
   "id": "f221b068",
   "metadata": {},
   "outputs": [],
   "source": [
    "# Load and preprocess the Iris dataset\n",
    "iris = load_iris()\n",
    "X = iris.data  # Features (4 features per sample)\n",
    "y = (iris.target != 0).astype(int)  # Binary classification: class 0 vs. others\n",
    "\n",
    "# Split the data into training and test sets\n",
    "X_train, X_test, y_train, y_test = train_test_split(X, y, test_size=0.2, random_state=42)\n",
    "\n",
    "# Normalize the features\n",
    "scaler = StandardScaler()\n",
    "X_train = scaler.fit_transform(X_train)\n",
    "X_test = scaler.transform(X_test)"
   ]
  },
  {
   "cell_type": "markdown",
   "id": "6cf56144",
   "metadata": {},
   "source": [
    "#### Build And Initialize The Neural Network"
   ]
  },
  {
   "cell_type": "code",
   "execution_count": 35,
   "id": "5f74b875",
   "metadata": {},
   "outputs": [],
   "source": [
    "# Build a simple neural network using TensorFlow\n",
    "model = tf.keras.Sequential([\n",
    "    tf.keras.layers.Dense(10, activation='relu', input_shape=(4,)),  # Hidden layer with 10 neurons\n",
    "    tf.keras.layers.Dense(1, activation='sigmoid')  # Output layer for binary classification\n",
    "])\n",
    "\n",
    "# Initialize optimizer and loss function\n",
    "optimizer = tf.keras.optimizers.SGD(learning_rate=0.1)\n",
    "loss_fn = tf.keras.losses.BinaryCrossentropy()"
   ]
  },
  {
   "cell_type": "markdown",
   "id": "f789b6d3",
   "metadata": {},
   "source": [
    "#### Training The Model"
   ]
  },
  {
   "cell_type": "code",
   "execution_count": 36,
   "id": "7a07d208",
   "metadata": {},
   "outputs": [
    {
     "name": "stdout",
     "output_type": "stream",
     "text": [
      "Epoch 0, Loss: 0.5722711086273193\n",
      "Epoch 10, Loss: 0.35702794790267944\n",
      "Epoch 20, Loss: 0.2475539594888687\n",
      "Epoch 30, Loss: 0.1799178123474121\n",
      "Epoch 40, Loss: 0.13464634120464325\n",
      "Epoch 50, Loss: 0.10376274585723877\n",
      "Epoch 60, Loss: 0.08214350044727325\n",
      "Epoch 70, Loss: 0.06658688187599182\n",
      "Epoch 80, Loss: 0.05512924864888191\n",
      "Epoch 90, Loss: 0.04649712145328522\n",
      "Epoch 100, Loss: 0.03983476012945175\n",
      "Epoch 110, Loss: 0.034591659903526306\n",
      "Epoch 120, Loss: 0.030396215617656708\n",
      "Epoch 130, Loss: 0.026984866708517075\n",
      "Epoch 140, Loss: 0.024172551929950714\n",
      "Epoch 150, Loss: 0.021833669394254684\n",
      "Epoch 160, Loss: 0.019858192652463913\n",
      "Epoch 170, Loss: 0.01821255311369896\n",
      "Epoch 180, Loss: 0.016815833747386932\n",
      "Epoch 190, Loss: 0.01560197863727808\n",
      "Epoch 200, Loss: 0.014538545161485672\n",
      "Epoch 210, Loss: 0.013600770384073257\n",
      "Epoch 220, Loss: 0.012769242748618126\n",
      "Epoch 230, Loss: 0.012026762589812279\n",
      "Epoch 240, Loss: 0.011360087431967258\n",
      "Epoch 250, Loss: 0.010758980177342892\n",
      "Epoch 260, Loss: 0.010214472189545631\n",
      "Epoch 270, Loss: 0.00971918273717165\n",
      "Epoch 280, Loss: 0.009266948327422142\n",
      "Epoch 290, Loss: 0.008852636441588402\n",
      "Epoch 300, Loss: 0.008472025394439697\n",
      "Epoch 310, Loss: 0.008121024817228317\n",
      "Epoch 320, Loss: 0.007796396967023611\n",
      "Epoch 330, Loss: 0.007495359051972628\n",
      "Epoch 340, Loss: 0.0072154998779296875\n",
      "Epoch 350, Loss: 0.006954670418053865\n",
      "Epoch 360, Loss: 0.006711101625114679\n",
      "Epoch 370, Loss: 0.006483159959316254\n",
      "Epoch 380, Loss: 0.006269422359764576\n",
      "Epoch 390, Loss: 0.006068632006645203\n",
      "Epoch 400, Loss: 0.005879671778529882\n",
      "Epoch 410, Loss: 0.005701547022908926\n",
      "Epoch 420, Loss: 0.00553338136523962\n",
      "Epoch 430, Loss: 0.005374378990381956\n",
      "Epoch 440, Loss: 0.005223812069743872\n",
      "Epoch 450, Loss: 0.005081041716039181\n",
      "Epoch 460, Loss: 0.004945496562868357\n",
      "Epoch 470, Loss: 0.0048166485503315926\n",
      "Epoch 480, Loss: 0.004694039933383465\n",
      "Epoch 490, Loss: 0.004577210638672113\n",
      "Epoch 500, Loss: 0.004465770907700062\n",
      "Epoch 510, Loss: 0.004359359387308359\n",
      "Epoch 520, Loss: 0.004257651977241039\n",
      "Epoch 530, Loss: 0.004160349257290363\n",
      "Epoch 540, Loss: 0.004067176952958107\n",
      "Epoch 550, Loss: 0.0039777993224561214\n",
      "Epoch 560, Loss: 0.003891949774697423\n",
      "Epoch 570, Loss: 0.003809546586126089\n",
      "Epoch 580, Loss: 0.003730387892574072\n",
      "Epoch 590, Loss: 0.0036542911548167467\n",
      "Epoch 600, Loss: 0.0035810868721455336\n",
      "Epoch 610, Loss: 0.0035106143914163113\n",
      "Epoch 620, Loss: 0.0034427286591380835\n",
      "Epoch 630, Loss: 0.003377291839569807\n",
      "Epoch 640, Loss: 0.003314198460429907\n",
      "Epoch 650, Loss: 0.0032533174380660057\n",
      "Epoch 660, Loss: 0.0031945237424224615\n",
      "Epoch 670, Loss: 0.00313771259970963\n",
      "Epoch 680, Loss: 0.0030827894806861877\n",
      "Epoch 690, Loss: 0.003029662650078535\n",
      "Epoch 700, Loss: 0.002978248056024313\n",
      "Epoch 710, Loss: 0.002928465139120817\n",
      "Epoch 720, Loss: 0.0028802386950701475\n",
      "Epoch 730, Loss: 0.002833497943356633\n",
      "Epoch 740, Loss: 0.002788177225738764\n",
      "Epoch 750, Loss: 0.0027442139107733965\n",
      "Epoch 760, Loss: 0.002701548393815756\n",
      "Epoch 770, Loss: 0.0026601303834468126\n",
      "Epoch 780, Loss: 0.0026199042331427336\n",
      "Epoch 790, Loss: 0.002580817323178053\n",
      "Epoch 800, Loss: 0.002542824950069189\n",
      "Epoch 810, Loss: 0.002505880082026124\n",
      "Epoch 820, Loss: 0.00246994337067008\n",
      "Epoch 830, Loss: 0.0024349726736545563\n",
      "Epoch 840, Loss: 0.0024009309709072113\n",
      "Epoch 850, Loss: 0.0023677879944443703\n",
      "Epoch 860, Loss: 0.002335506724193692\n",
      "Epoch 870, Loss: 0.002304050838574767\n",
      "Epoch 880, Loss: 0.0022733912337571383\n",
      "Epoch 890, Loss: 0.0022434969432651997\n",
      "Epoch 900, Loss: 0.0022143423557281494\n",
      "Epoch 910, Loss: 0.0021859079133719206\n",
      "Epoch 920, Loss: 0.0021581605542451143\n",
      "Epoch 930, Loss: 0.002131075132638216\n",
      "Epoch 940, Loss: 0.0021046290639787912\n",
      "Epoch 950, Loss: 0.0020787990652024746\n",
      "Epoch 960, Loss: 0.0020535660441964865\n",
      "Epoch 970, Loss: 0.0020289055537432432\n",
      "Epoch 980, Loss: 0.002004799898713827\n",
      "Epoch 990, Loss: 0.0019812334794551134\n"
     ]
    }
   ],
   "source": [
    "# Training loop with manual backpropagation using tf.GradientTape\n",
    "epochs = 1000\n",
    "\n",
    "for epoch in range(epochs):\n",
    "    with tf.GradientTape() as tape:\n",
    "        # Forward pass: compute predictions\n",
    "        predictions = model(X_train, training=True)\n",
    "        # Compute the loss\n",
    "        loss = loss_fn(y_train, predictions)\n",
    "    \n",
    "    # Compute gradients (backpropagation)\n",
    "    gradients = tape.gradient(loss, model.trainable_variables)\n",
    "    \n",
    "    # Apply gradients using the optimizer\n",
    "    optimizer.apply_gradients(zip(gradients, model.trainable_variables))\n",
    "    \n",
    "    # Print the loss every 10 epochs\n",
    "    if epoch % 50 == 0:\n",
    "        print(f\"Epoch {epoch}, Loss: {loss.numpy()}\")"
   ]
  },
  {
   "cell_type": "markdown",
   "id": "f083acc7",
   "metadata": {},
   "source": [
    "#### Evaluate The Model"
   ]
  },
  {
   "cell_type": "code",
   "execution_count": 37,
   "id": "6cb21e85",
   "metadata": {},
   "outputs": [
    {
     "name": "stdout",
     "output_type": "stream",
     "text": [
      "\n",
      "Final test loss: 0.0016189967282116413\n"
     ]
    }
   ],
   "source": [
    "# Evaluate the model\n",
    "test_loss = loss_fn(y_test, model(X_test)).numpy()\n",
    "print(f\"\\nFinal test loss: {test_loss}\")"
   ]
  },
  {
   "cell_type": "code",
   "execution_count": 38,
   "id": "914ed0f4",
   "metadata": {},
   "outputs": [
    {
     "name": "stdout",
     "output_type": "stream",
     "text": [
      "\u001b[1m1/1\u001b[0m \u001b[32m━━━━━━━━━━━━━━━━━━━━\u001b[0m\u001b[37m\u001b[0m \u001b[1m0s\u001b[0m 142ms/step\n",
      "Final test accuracy: 100.00%\n"
     ]
    }
   ],
   "source": [
    "# Predict on test data and compute accuracy\n",
    "predictions = model.predict(X_test)\n",
    "predicted_classes = (predictions > 0.5).astype(int)  # Convert probabilities to binary labels (0 or 1)\n",
    "\n",
    "# Calculate accuracy\n",
    "accuracy = (predicted_classes.flatten() == y_test).mean()  # Flatten predictions and compare with true labels\n",
    "\n",
    "print(f\"Final test accuracy: {accuracy * 100:.2f}%\")"
   ]
  },
  {
   "cell_type": "markdown",
   "id": "4538dc8d",
   "metadata": {},
   "source": [
    "#### Make Predictions"
   ]
  },
  {
   "cell_type": "code",
   "execution_count": 39,
   "id": "40e33bf9",
   "metadata": {},
   "outputs": [
    {
     "name": "stdout",
     "output_type": "stream",
     "text": [
      "\u001b[1m1/1\u001b[0m \u001b[32m━━━━━━━━━━━━━━━━━━━━\u001b[0m\u001b[37m\u001b[0m \u001b[1m0s\u001b[0m 65ms/step\n",
      "Sample 0: Predicted = 1, True = 1\n",
      "Sample 1: Predicted = 0, True = 0\n",
      "Sample 2: Predicted = 1, True = 1\n",
      "Sample 3: Predicted = 1, True = 1\n",
      "Sample 4: Predicted = 1, True = 1\n"
     ]
    }
   ],
   "source": [
    "# Make predictions on test data\n",
    "predictions = model.predict(X_test)\n",
    "predicted_classes = (predictions > 0.5).astype(int)  # Convert probabilities to binary labels (0 or 1)\n",
    "\n",
    "# Display predictions and ground truth\n",
    "for i in range(5):  # Display the first 5 predictions\n",
    "    print(f\"Sample {i}: Predicted = {predicted_classes[i][0]}, True = {y_test[i]}\")"
   ]
  },
  {
   "cell_type": "markdown",
   "id": "341d1838",
   "metadata": {},
   "source": [
    "## Regression Example"
   ]
  },
  {
   "cell_type": "code",
   "execution_count": 40,
   "id": "0b98215c",
   "metadata": {},
   "outputs": [],
   "source": [
    "import tensorflow as tf\n",
    "from sklearn.datasets import load_boston\n",
    "from sklearn.model_selection import train_test_split\n",
    "from sklearn.preprocessing import StandardScaler\n",
    "import numpy as np"
   ]
  },
  {
   "cell_type": "markdown",
   "id": "470da4f5",
   "metadata": {},
   "source": [
    "#### Prepare The Dataset"
   ]
  },
  {
   "cell_type": "code",
   "execution_count": 41,
   "id": "b7dc8d29",
   "metadata": {},
   "outputs": [
    {
     "name": "stderr",
     "output_type": "stream",
     "text": [
      "/Users/jonathanschlosser/anaconda3/envs/OldJupyter/lib/python3.9/site-packages/sklearn/utils/deprecation.py:87: FutureWarning: Function load_boston is deprecated; `load_boston` is deprecated in 1.0 and will be removed in 1.2.\n",
      "\n",
      "    The Boston housing prices dataset has an ethical problem. You can refer to\n",
      "    the documentation of this function for further details.\n",
      "\n",
      "    The scikit-learn maintainers therefore strongly discourage the use of this\n",
      "    dataset unless the purpose of the code is to study and educate about\n",
      "    ethical issues in data science and machine learning.\n",
      "\n",
      "    In this special case, you can fetch the dataset from the original\n",
      "    source::\n",
      "\n",
      "        import pandas as pd\n",
      "        import numpy as np\n",
      "\n",
      "        data_url = \"http://lib.stat.cmu.edu/datasets/boston\"\n",
      "        raw_df = pd.read_csv(data_url, sep=\"\\s+\", skiprows=22, header=None)\n",
      "        data = np.hstack([raw_df.values[::2, :], raw_df.values[1::2, :2]])\n",
      "        target = raw_df.values[1::2, 2]\n",
      "\n",
      "    Alternative datasets include the California housing dataset (i.e.\n",
      "    :func:`~sklearn.datasets.fetch_california_housing`) and the Ames housing\n",
      "    dataset. You can load the datasets as follows::\n",
      "\n",
      "        from sklearn.datasets import fetch_california_housing\n",
      "        housing = fetch_california_housing()\n",
      "\n",
      "    for the California housing dataset and::\n",
      "\n",
      "        from sklearn.datasets import fetch_openml\n",
      "        housing = fetch_openml(name=\"house_prices\", as_frame=True)\n",
      "\n",
      "    for the Ames housing dataset.\n",
      "  warnings.warn(msg, category=FutureWarning)\n"
     ]
    }
   ],
   "source": [
    "# Load and preprocess the Boston Housing dataset\n",
    "boston = load_boston()\n",
    "X = boston.data  # Features (number of rooms, location, etc.)\n",
    "y = boston.target.reshape(-1, 1)  # House prices reshaped to 2D\n",
    "\n",
    "# Split the data into training and test sets\n",
    "X_train, X_test, y_train, y_test = train_test_split(X, y, test_size=0.2, random_state=42)\n",
    "\n",
    "# Normalize the features\n",
    "scaler = StandardScaler()\n",
    "X_train = scaler.fit_transform(X_train)\n",
    "X_test = scaler.transform(X_test)"
   ]
  },
  {
   "cell_type": "markdown",
   "id": "1c1ad053",
   "metadata": {},
   "source": [
    "#### Build And Compile Neural Network"
   ]
  },
  {
   "cell_type": "code",
   "execution_count": 42,
   "id": "19a5bd4e",
   "metadata": {},
   "outputs": [],
   "source": [
    "# Build a simple neural network using TensorFlow\n",
    "model = tf.keras.Sequential([\n",
    "    tf.keras.layers.Input(shape=(X_train.shape[1],)),  # Input layer (13 features)\n",
    "    tf.keras.layers.Dense(64, activation='relu'),  # Hidden layer with 64 neurons\n",
    "    tf.keras.layers.Dense(1)  # Output layer for regression (1 output)\n",
    "])"
   ]
  },
  {
   "cell_type": "code",
   "execution_count": 43,
   "id": "d693d586",
   "metadata": {},
   "outputs": [],
   "source": [
    "# Compile the model with the optimizer and loss function\n",
    "model.compile(optimizer=tf.keras.optimizers.Adam(learning_rate=0.01),\n",
    "              loss='mean_squared_error',\n",
    "              metrics=['mae'])"
   ]
  },
  {
   "cell_type": "code",
   "execution_count": 44,
   "id": "4cd3cce1",
   "metadata": {},
   "outputs": [
    {
     "name": "stdout",
     "output_type": "stream",
     "text": [
      "Epoch 1/100\n",
      "\u001b[1m12/12\u001b[0m \u001b[32m━━━━━━━━━━━━━━━━━━━━\u001b[0m\u001b[37m\u001b[0m \u001b[1m1s\u001b[0m 24ms/step - loss: 552.1786 - mae: 21.6182 - val_loss: 397.7032 - val_mae: 18.3852\n",
      "Epoch 2/100\n",
      "\u001b[1m12/12\u001b[0m \u001b[32m━━━━━━━━━━━━━━━━━━━━\u001b[0m\u001b[37m\u001b[0m \u001b[1m0s\u001b[0m 7ms/step - loss: 359.6962 - mae: 16.6409 - val_loss: 168.2371 - val_mae: 11.1015\n",
      "Epoch 3/100\n",
      "\u001b[1m12/12\u001b[0m \u001b[32m━━━━━━━━━━━━━━━━━━━━\u001b[0m\u001b[37m\u001b[0m \u001b[1m0s\u001b[0m 7ms/step - loss: 141.9568 - mae: 9.1925 - val_loss: 70.9432 - val_mae: 6.0898\n",
      "Epoch 4/100\n",
      "\u001b[1m12/12\u001b[0m \u001b[32m━━━━━━━━━━━━━━━━━━━━\u001b[0m\u001b[37m\u001b[0m \u001b[1m0s\u001b[0m 8ms/step - loss: 81.3917 - mae: 6.9396 - val_loss: 43.2335 - val_mae: 4.3369\n",
      "Epoch 5/100\n",
      "\u001b[1m12/12\u001b[0m \u001b[32m━━━━━━━━━━━━━━━━━━━━\u001b[0m\u001b[37m\u001b[0m \u001b[1m0s\u001b[0m 7ms/step - loss: 33.5421 - mae: 4.5052 - val_loss: 47.3297 - val_mae: 4.7876\n",
      "Epoch 6/100\n",
      "\u001b[1m12/12\u001b[0m \u001b[32m━━━━━━━━━━━━━━━━━━━━\u001b[0m\u001b[37m\u001b[0m \u001b[1m0s\u001b[0m 7ms/step - loss: 30.0625 - mae: 3.8184 - val_loss: 47.7934 - val_mae: 4.7817\n",
      "Epoch 7/100\n",
      "\u001b[1m12/12\u001b[0m \u001b[32m━━━━━━━━━━━━━━━━━━━━\u001b[0m\u001b[37m\u001b[0m \u001b[1m0s\u001b[0m 8ms/step - loss: 23.7365 - mae: 3.5776 - val_loss: 43.4125 - val_mae: 4.4032\n",
      "Epoch 8/100\n",
      "\u001b[1m12/12\u001b[0m \u001b[32m━━━━━━━━━━━━━━━━━━━━\u001b[0m\u001b[37m\u001b[0m \u001b[1m0s\u001b[0m 9ms/step - loss: 21.5682 - mae: 3.4855 - val_loss: 39.0026 - val_mae: 4.1746\n",
      "Epoch 9/100\n",
      "\u001b[1m12/12\u001b[0m \u001b[32m━━━━━━━━━━━━━━━━━━━━\u001b[0m\u001b[37m\u001b[0m \u001b[1m0s\u001b[0m 7ms/step - loss: 23.6300 - mae: 3.5224 - val_loss: 36.9007 - val_mae: 4.0912\n",
      "Epoch 10/100\n",
      "\u001b[1m12/12\u001b[0m \u001b[32m━━━━━━━━━━━━━━━━━━━━\u001b[0m\u001b[37m\u001b[0m \u001b[1m0s\u001b[0m 8ms/step - loss: 19.2110 - mae: 3.3221 - val_loss: 34.5472 - val_mae: 3.9800\n",
      "Epoch 11/100\n",
      "\u001b[1m12/12\u001b[0m \u001b[32m━━━━━━━━━━━━━━━━━━━━\u001b[0m\u001b[37m\u001b[0m \u001b[1m0s\u001b[0m 8ms/step - loss: 19.4663 - mae: 3.1643 - val_loss: 32.4503 - val_mae: 3.7928\n",
      "Epoch 12/100\n",
      "\u001b[1m12/12\u001b[0m \u001b[32m━━━━━━━━━━━━━━━━━━━━\u001b[0m\u001b[37m\u001b[0m \u001b[1m0s\u001b[0m 8ms/step - loss: 15.9179 - mae: 2.8429 - val_loss: 30.8103 - val_mae: 3.7172\n",
      "Epoch 13/100\n",
      "\u001b[1m12/12\u001b[0m \u001b[32m━━━━━━━━━━━━━━━━━━━━\u001b[0m\u001b[37m\u001b[0m \u001b[1m0s\u001b[0m 8ms/step - loss: 13.2997 - mae: 2.6623 - val_loss: 28.8795 - val_mae: 3.5058\n",
      "Epoch 14/100\n",
      "\u001b[1m12/12\u001b[0m \u001b[32m━━━━━━━━━━━━━━━━━━━━\u001b[0m\u001b[37m\u001b[0m \u001b[1m0s\u001b[0m 7ms/step - loss: 11.5509 - mae: 2.4830 - val_loss: 28.2614 - val_mae: 3.5639\n",
      "Epoch 15/100\n",
      "\u001b[1m12/12\u001b[0m \u001b[32m━━━━━━━━━━━━━━━━━━━━\u001b[0m\u001b[37m\u001b[0m \u001b[1m0s\u001b[0m 7ms/step - loss: 12.1556 - mae: 2.5484 - val_loss: 26.3194 - val_mae: 3.3531\n",
      "Epoch 16/100\n",
      "\u001b[1m12/12\u001b[0m \u001b[32m━━━━━━━━━━━━━━━━━━━━\u001b[0m\u001b[37m\u001b[0m \u001b[1m0s\u001b[0m 7ms/step - loss: 16.2226 - mae: 2.8166 - val_loss: 26.4742 - val_mae: 3.4137\n",
      "Epoch 17/100\n",
      "\u001b[1m12/12\u001b[0m \u001b[32m━━━━━━━━━━━━━━━━━━━━\u001b[0m\u001b[37m\u001b[0m \u001b[1m0s\u001b[0m 8ms/step - loss: 10.3841 - mae: 2.3155 - val_loss: 25.0408 - val_mae: 3.4025\n",
      "Epoch 18/100\n",
      "\u001b[1m12/12\u001b[0m \u001b[32m━━━━━━━━━━━━━━━━━━━━\u001b[0m\u001b[37m\u001b[0m \u001b[1m0s\u001b[0m 7ms/step - loss: 11.1310 - mae: 2.3387 - val_loss: 25.1284 - val_mae: 3.2691\n",
      "Epoch 19/100\n",
      "\u001b[1m12/12\u001b[0m \u001b[32m━━━━━━━━━━━━━━━━━━━━\u001b[0m\u001b[37m\u001b[0m \u001b[1m0s\u001b[0m 9ms/step - loss: 9.2156 - mae: 2.1793 - val_loss: 24.6575 - val_mae: 3.3575\n",
      "Epoch 20/100\n",
      "\u001b[1m12/12\u001b[0m \u001b[32m━━━━━━━━━━━━━━━━━━━━\u001b[0m\u001b[37m\u001b[0m \u001b[1m0s\u001b[0m 7ms/step - loss: 10.3273 - mae: 2.2051 - val_loss: 23.4818 - val_mae: 3.1597\n",
      "Epoch 21/100\n",
      "\u001b[1m12/12\u001b[0m \u001b[32m━━━━━━━━━━━━━━━━━━━━\u001b[0m\u001b[37m\u001b[0m \u001b[1m0s\u001b[0m 8ms/step - loss: 10.9753 - mae: 2.3840 - val_loss: 24.9173 - val_mae: 3.3774\n",
      "Epoch 22/100\n",
      "\u001b[1m12/12\u001b[0m \u001b[32m━━━━━━━━━━━━━━━━━━━━\u001b[0m\u001b[37m\u001b[0m \u001b[1m0s\u001b[0m 8ms/step - loss: 11.6779 - mae: 2.4056 - val_loss: 23.0926 - val_mae: 3.2367\n",
      "Epoch 23/100\n",
      "\u001b[1m12/12\u001b[0m \u001b[32m━━━━━━━━━━━━━━━━━━━━\u001b[0m\u001b[37m\u001b[0m \u001b[1m0s\u001b[0m 9ms/step - loss: 8.6715 - mae: 2.1845 - val_loss: 22.9992 - val_mae: 3.2062\n",
      "Epoch 24/100\n",
      "\u001b[1m12/12\u001b[0m \u001b[32m━━━━━━━━━━━━━━━━━━━━\u001b[0m\u001b[37m\u001b[0m \u001b[1m0s\u001b[0m 9ms/step - loss: 9.0356 - mae: 2.1943 - val_loss: 21.7123 - val_mae: 3.1481\n",
      "Epoch 25/100\n",
      "\u001b[1m12/12\u001b[0m \u001b[32m━━━━━━━━━━━━━━━━━━━━\u001b[0m\u001b[37m\u001b[0m \u001b[1m0s\u001b[0m 8ms/step - loss: 9.4994 - mae: 2.1727 - val_loss: 23.0141 - val_mae: 3.2620\n",
      "Epoch 26/100\n",
      "\u001b[1m12/12\u001b[0m \u001b[32m━━━━━━━━━━━━━━━━━━━━\u001b[0m\u001b[37m\u001b[0m \u001b[1m0s\u001b[0m 9ms/step - loss: 8.7673 - mae: 2.0937 - val_loss: 22.1952 - val_mae: 3.1267\n",
      "Epoch 27/100\n",
      "\u001b[1m12/12\u001b[0m \u001b[32m━━━━━━━━━━━━━━━━━━━━\u001b[0m\u001b[37m\u001b[0m \u001b[1m0s\u001b[0m 9ms/step - loss: 8.3946 - mae: 2.1384 - val_loss: 22.8831 - val_mae: 3.3165\n",
      "Epoch 28/100\n",
      "\u001b[1m12/12\u001b[0m \u001b[32m━━━━━━━━━━━━━━━━━━━━\u001b[0m\u001b[37m\u001b[0m \u001b[1m0s\u001b[0m 8ms/step - loss: 8.5143 - mae: 2.1381 - val_loss: 21.4193 - val_mae: 3.1729\n",
      "Epoch 29/100\n",
      "\u001b[1m12/12\u001b[0m \u001b[32m━━━━━━━━━━━━━━━━━━━━\u001b[0m\u001b[37m\u001b[0m \u001b[1m0s\u001b[0m 9ms/step - loss: 9.8947 - mae: 2.2506 - val_loss: 20.8332 - val_mae: 3.2090\n",
      "Epoch 30/100\n",
      "\u001b[1m12/12\u001b[0m \u001b[32m━━━━━━━━━━━━━━━━━━━━\u001b[0m\u001b[37m\u001b[0m \u001b[1m0s\u001b[0m 8ms/step - loss: 8.5590 - mae: 2.1160 - val_loss: 21.3868 - val_mae: 3.1298\n",
      "Epoch 31/100\n",
      "\u001b[1m12/12\u001b[0m \u001b[32m━━━━━━━━━━━━━━━━━━━━\u001b[0m\u001b[37m\u001b[0m \u001b[1m0s\u001b[0m 9ms/step - loss: 7.9369 - mae: 2.0660 - val_loss: 20.2243 - val_mae: 3.1146\n",
      "Epoch 32/100\n",
      "\u001b[1m12/12\u001b[0m \u001b[32m━━━━━━━━━━━━━━━━━━━━\u001b[0m\u001b[37m\u001b[0m \u001b[1m0s\u001b[0m 8ms/step - loss: 8.8259 - mae: 2.1088 - val_loss: 20.8526 - val_mae: 3.1960\n",
      "Epoch 33/100\n",
      "\u001b[1m12/12\u001b[0m \u001b[32m━━━━━━━━━━━━━━━━━━━━\u001b[0m\u001b[37m\u001b[0m \u001b[1m0s\u001b[0m 8ms/step - loss: 8.5532 - mae: 2.0794 - val_loss: 21.6318 - val_mae: 3.1877\n",
      "Epoch 34/100\n",
      "\u001b[1m12/12\u001b[0m \u001b[32m━━━━━━━━━━━━━━━━━━━━\u001b[0m\u001b[37m\u001b[0m \u001b[1m0s\u001b[0m 7ms/step - loss: 7.7366 - mae: 2.0693 - val_loss: 19.3306 - val_mae: 2.9794\n",
      "Epoch 35/100\n",
      "\u001b[1m12/12\u001b[0m \u001b[32m━━━━━━━━━━━━━━━━━━━━\u001b[0m\u001b[37m\u001b[0m \u001b[1m0s\u001b[0m 8ms/step - loss: 7.6232 - mae: 2.0953 - val_loss: 20.0986 - val_mae: 3.1621\n",
      "Epoch 36/100\n",
      "\u001b[1m12/12\u001b[0m \u001b[32m━━━━━━━━━━━━━━━━━━━━\u001b[0m\u001b[37m\u001b[0m \u001b[1m0s\u001b[0m 8ms/step - loss: 7.5432 - mae: 2.0327 - val_loss: 19.7115 - val_mae: 3.0849\n",
      "Epoch 37/100\n",
      "\u001b[1m12/12\u001b[0m \u001b[32m━━━━━━━━━━━━━━━━━━━━\u001b[0m\u001b[37m\u001b[0m \u001b[1m0s\u001b[0m 8ms/step - loss: 7.2230 - mae: 1.9345 - val_loss: 20.9324 - val_mae: 3.1662\n",
      "Epoch 38/100\n",
      "\u001b[1m12/12\u001b[0m \u001b[32m━━━━━━━━━━━━━━━━━━━━\u001b[0m\u001b[37m\u001b[0m \u001b[1m0s\u001b[0m 10ms/step - loss: 8.0488 - mae: 2.0187 - val_loss: 18.6938 - val_mae: 2.9635\n",
      "Epoch 39/100\n",
      "\u001b[1m12/12\u001b[0m \u001b[32m━━━━━━━━━━━━━━━━━━━━\u001b[0m\u001b[37m\u001b[0m \u001b[1m0s\u001b[0m 9ms/step - loss: 8.0883 - mae: 2.1394 - val_loss: 19.9158 - val_mae: 3.1279\n",
      "Epoch 40/100\n",
      "\u001b[1m12/12\u001b[0m \u001b[32m━━━━━━━━━━━━━━━━━━━━\u001b[0m\u001b[37m\u001b[0m \u001b[1m0s\u001b[0m 8ms/step - loss: 6.2171 - mae: 1.7938 - val_loss: 18.4349 - val_mae: 2.9082\n",
      "Epoch 41/100\n",
      "\u001b[1m12/12\u001b[0m \u001b[32m━━━━━━━━━━━━━━━━━━━━\u001b[0m\u001b[37m\u001b[0m \u001b[1m0s\u001b[0m 9ms/step - loss: 7.2673 - mae: 1.9236 - val_loss: 19.9817 - val_mae: 3.1070\n",
      "Epoch 42/100\n",
      "\u001b[1m12/12\u001b[0m \u001b[32m━━━━━━━━━━━━━━━━━━━━\u001b[0m\u001b[37m\u001b[0m \u001b[1m0s\u001b[0m 9ms/step - loss: 8.3987 - mae: 2.1148 - val_loss: 18.8348 - val_mae: 3.0567\n",
      "Epoch 43/100\n",
      "\u001b[1m12/12\u001b[0m \u001b[32m━━━━━━━━━━━━━━━━━━━━\u001b[0m\u001b[37m\u001b[0m \u001b[1m0s\u001b[0m 9ms/step - loss: 5.6856 - mae: 1.8215 - val_loss: 17.7375 - val_mae: 2.9224\n",
      "Epoch 44/100\n",
      "\u001b[1m12/12\u001b[0m \u001b[32m━━━━━━━━━━━━━━━━━━━━\u001b[0m\u001b[37m\u001b[0m \u001b[1m0s\u001b[0m 10ms/step - loss: 6.4411 - mae: 1.8454 - val_loss: 19.4346 - val_mae: 3.0842\n",
      "Epoch 45/100\n",
      "\u001b[1m12/12\u001b[0m \u001b[32m━━━━━━━━━━━━━━━━━━━━\u001b[0m\u001b[37m\u001b[0m \u001b[1m0s\u001b[0m 9ms/step - loss: 6.4930 - mae: 1.9064 - val_loss: 18.3389 - val_mae: 3.0310\n",
      "Epoch 46/100\n",
      "\u001b[1m12/12\u001b[0m \u001b[32m━━━━━━━━━━━━━━━━━━━━\u001b[0m\u001b[37m\u001b[0m \u001b[1m0s\u001b[0m 9ms/step - loss: 6.8986 - mae: 1.9162 - val_loss: 18.4366 - val_mae: 2.9939\n",
      "Epoch 47/100\n",
      "\u001b[1m12/12\u001b[0m \u001b[32m━━━━━━━━━━━━━━━━━━━━\u001b[0m\u001b[37m\u001b[0m \u001b[1m0s\u001b[0m 8ms/step - loss: 5.9745 - mae: 1.7985 - val_loss: 19.1366 - val_mae: 3.1061\n",
      "Epoch 48/100\n",
      "\u001b[1m12/12\u001b[0m \u001b[32m━━━━━━━━━━━━━━━━━━━━\u001b[0m\u001b[37m\u001b[0m \u001b[1m0s\u001b[0m 9ms/step - loss: 6.5178 - mae: 1.9172 - val_loss: 17.4809 - val_mae: 3.0566\n",
      "Epoch 49/100\n",
      "\u001b[1m12/12\u001b[0m \u001b[32m━━━━━━━━━━━━━━━━━━━━\u001b[0m\u001b[37m\u001b[0m \u001b[1m0s\u001b[0m 9ms/step - loss: 5.8730 - mae: 1.7765 - val_loss: 19.2066 - val_mae: 3.0907\n",
      "Epoch 50/100\n",
      "\u001b[1m12/12\u001b[0m \u001b[32m━━━━━━━━━━━━━━━━━━━━\u001b[0m\u001b[37m\u001b[0m \u001b[1m0s\u001b[0m 9ms/step - loss: 6.5294 - mae: 1.9297 - val_loss: 17.4899 - val_mae: 2.9797\n",
      "Epoch 51/100\n",
      "\u001b[1m12/12\u001b[0m \u001b[32m━━━━━━━━━━━━━━━━━━━━\u001b[0m\u001b[37m\u001b[0m \u001b[1m0s\u001b[0m 8ms/step - loss: 5.8510 - mae: 1.7915 - val_loss: 17.6878 - val_mae: 3.0025\n",
      "Epoch 52/100\n",
      "\u001b[1m12/12\u001b[0m \u001b[32m━━━━━━━━━━━━━━━━━━━━\u001b[0m\u001b[37m\u001b[0m \u001b[1m0s\u001b[0m 9ms/step - loss: 5.1386 - mae: 1.7342 - val_loss: 17.6155 - val_mae: 3.0436\n",
      "Epoch 53/100\n",
      "\u001b[1m12/12\u001b[0m \u001b[32m━━━━━━━━━━━━━━━━━━━━\u001b[0m\u001b[37m\u001b[0m \u001b[1m0s\u001b[0m 8ms/step - loss: 5.4149 - mae: 1.6994 - val_loss: 18.1956 - val_mae: 3.0356\n",
      "Epoch 54/100\n",
      "\u001b[1m12/12\u001b[0m \u001b[32m━━━━━━━━━━━━━━━━━━━━\u001b[0m\u001b[37m\u001b[0m \u001b[1m0s\u001b[0m 9ms/step - loss: 5.8061 - mae: 1.7841 - val_loss: 15.9151 - val_mae: 2.8433\n",
      "Epoch 55/100\n",
      "\u001b[1m12/12\u001b[0m \u001b[32m━━━━━━━━━━━━━━━━━━━━\u001b[0m\u001b[37m\u001b[0m \u001b[1m0s\u001b[0m 8ms/step - loss: 5.8996 - mae: 1.8625 - val_loss: 17.6933 - val_mae: 3.1094\n",
      "Epoch 56/100\n",
      "\u001b[1m12/12\u001b[0m \u001b[32m━━━━━━━━━━━━━━━━━━━━\u001b[0m\u001b[37m\u001b[0m \u001b[1m0s\u001b[0m 9ms/step - loss: 5.2054 - mae: 1.7064 - val_loss: 16.6064 - val_mae: 2.8774\n",
      "Epoch 57/100\n",
      "\u001b[1m12/12\u001b[0m \u001b[32m━━━━━━━━━━━━━━━━━━━━\u001b[0m\u001b[37m\u001b[0m \u001b[1m0s\u001b[0m 8ms/step - loss: 5.7452 - mae: 1.7677 - val_loss: 16.5611 - val_mae: 2.9111\n",
      "Epoch 58/100\n",
      "\u001b[1m12/12\u001b[0m \u001b[32m━━━━━━━━━━━━━━━━━━━━\u001b[0m\u001b[37m\u001b[0m \u001b[1m0s\u001b[0m 8ms/step - loss: 6.4039 - mae: 1.9272 - val_loss: 19.8284 - val_mae: 3.2786\n",
      "Epoch 59/100\n",
      "\u001b[1m12/12\u001b[0m \u001b[32m━━━━━━━━━━━━━━━━━━━━\u001b[0m\u001b[37m\u001b[0m \u001b[1m0s\u001b[0m 9ms/step - loss: 6.5079 - mae: 1.8653 - val_loss: 17.8226 - val_mae: 3.0357\n",
      "Epoch 60/100\n",
      "\u001b[1m12/12\u001b[0m \u001b[32m━━━━━━━━━━━━━━━━━━━━\u001b[0m\u001b[37m\u001b[0m \u001b[1m0s\u001b[0m 9ms/step - loss: 5.5662 - mae: 1.8044 - val_loss: 17.0555 - val_mae: 2.9815\n",
      "Epoch 61/100\n",
      "\u001b[1m12/12\u001b[0m \u001b[32m━━━━━━━━━━━━━━━━━━━━\u001b[0m\u001b[37m\u001b[0m \u001b[1m0s\u001b[0m 7ms/step - loss: 5.6159 - mae: 1.7921 - val_loss: 16.4787 - val_mae: 3.0232\n",
      "Epoch 62/100\n",
      "\u001b[1m12/12\u001b[0m \u001b[32m━━━━━━━━━━━━━━━━━━━━\u001b[0m\u001b[37m\u001b[0m \u001b[1m0s\u001b[0m 9ms/step - loss: 5.7548 - mae: 1.7916 - val_loss: 16.8673 - val_mae: 3.0128\n",
      "Epoch 63/100\n",
      "\u001b[1m12/12\u001b[0m \u001b[32m━━━━━━━━━━━━━━━━━━━━\u001b[0m\u001b[37m\u001b[0m \u001b[1m0s\u001b[0m 9ms/step - loss: 5.0944 - mae: 1.6690 - val_loss: 16.4578 - val_mae: 2.9816\n",
      "Epoch 64/100\n",
      "\u001b[1m12/12\u001b[0m \u001b[32m━━━━━━━━━━━━━━━━━━━━\u001b[0m\u001b[37m\u001b[0m \u001b[1m0s\u001b[0m 8ms/step - loss: 5.2639 - mae: 1.7169 - val_loss: 15.5666 - val_mae: 2.9054\n",
      "Epoch 65/100\n",
      "\u001b[1m12/12\u001b[0m \u001b[32m━━━━━━━━━━━━━━━━━━━━\u001b[0m\u001b[37m\u001b[0m \u001b[1m0s\u001b[0m 9ms/step - loss: 5.0128 - mae: 1.6807 - val_loss: 17.0897 - val_mae: 3.0557\n",
      "Epoch 66/100\n",
      "\u001b[1m12/12\u001b[0m \u001b[32m━━━━━━━━━━━━━━━━━━━━\u001b[0m\u001b[37m\u001b[0m \u001b[1m0s\u001b[0m 9ms/step - loss: 5.2255 - mae: 1.6669 - val_loss: 15.3840 - val_mae: 2.8669\n",
      "Epoch 67/100\n",
      "\u001b[1m12/12\u001b[0m \u001b[32m━━━━━━━━━━━━━━━━━━━━\u001b[0m\u001b[37m\u001b[0m \u001b[1m0s\u001b[0m 8ms/step - loss: 4.9152 - mae: 1.6309 - val_loss: 17.6986 - val_mae: 3.0864\n",
      "Epoch 68/100\n",
      "\u001b[1m12/12\u001b[0m \u001b[32m━━━━━━━━━━━━━━━━━━━━\u001b[0m\u001b[37m\u001b[0m \u001b[1m0s\u001b[0m 8ms/step - loss: 4.8194 - mae: 1.6216 - val_loss: 15.1889 - val_mae: 2.8485\n",
      "Epoch 69/100\n",
      "\u001b[1m12/12\u001b[0m \u001b[32m━━━━━━━━━━━━━━━━━━━━\u001b[0m\u001b[37m\u001b[0m \u001b[1m0s\u001b[0m 7ms/step - loss: 4.9359 - mae: 1.6558 - val_loss: 15.5264 - val_mae: 2.9037\n",
      "Epoch 70/100\n",
      "\u001b[1m12/12\u001b[0m \u001b[32m━━━━━━━━━━━━━━━━━━━━\u001b[0m\u001b[37m\u001b[0m \u001b[1m0s\u001b[0m 7ms/step - loss: 6.6438 - mae: 1.8960 - val_loss: 16.8997 - val_mae: 3.1750\n",
      "Epoch 71/100\n",
      "\u001b[1m12/12\u001b[0m \u001b[32m━━━━━━━━━━━━━━━━━━━━\u001b[0m\u001b[37m\u001b[0m \u001b[1m0s\u001b[0m 9ms/step - loss: 5.4624 - mae: 1.7272 - val_loss: 18.7274 - val_mae: 3.2013\n",
      "Epoch 72/100\n",
      "\u001b[1m12/12\u001b[0m \u001b[32m━━━━━━━━━━━━━━━━━━━━\u001b[0m\u001b[37m\u001b[0m \u001b[1m0s\u001b[0m 8ms/step - loss: 5.5577 - mae: 1.7778 - val_loss: 15.6418 - val_mae: 2.9601\n",
      "Epoch 73/100\n",
      "\u001b[1m12/12\u001b[0m \u001b[32m━━━━━━━━━━━━━━━━━━━━\u001b[0m\u001b[37m\u001b[0m \u001b[1m0s\u001b[0m 8ms/step - loss: 5.0951 - mae: 1.6876 - val_loss: 16.4345 - val_mae: 3.0374\n",
      "Epoch 74/100\n",
      "\u001b[1m12/12\u001b[0m \u001b[32m━━━━━━━━━━━━━━━━━━━━\u001b[0m\u001b[37m\u001b[0m \u001b[1m0s\u001b[0m 7ms/step - loss: 4.9256 - mae: 1.6687 - val_loss: 14.8296 - val_mae: 2.8305\n",
      "Epoch 75/100\n",
      "\u001b[1m12/12\u001b[0m \u001b[32m━━━━━━━━━━━━━━━━━━━━\u001b[0m\u001b[37m\u001b[0m \u001b[1m0s\u001b[0m 8ms/step - loss: 4.4739 - mae: 1.6028 - val_loss: 16.4038 - val_mae: 3.0663\n",
      "Epoch 76/100\n",
      "\u001b[1m12/12\u001b[0m \u001b[32m━━━━━━━━━━━━━━━━━━━━\u001b[0m\u001b[37m\u001b[0m \u001b[1m0s\u001b[0m 7ms/step - loss: 4.9311 - mae: 1.6417 - val_loss: 15.7387 - val_mae: 2.9782\n",
      "Epoch 77/100\n",
      "\u001b[1m12/12\u001b[0m \u001b[32m━━━━━━━━━━━━━━━━━━━━\u001b[0m\u001b[37m\u001b[0m \u001b[1m0s\u001b[0m 8ms/step - loss: 5.0211 - mae: 1.6621 - val_loss: 14.6950 - val_mae: 2.9174\n",
      "Epoch 78/100\n",
      "\u001b[1m12/12\u001b[0m \u001b[32m━━━━━━━━━━━━━━━━━━━━\u001b[0m\u001b[37m\u001b[0m \u001b[1m0s\u001b[0m 8ms/step - loss: 4.5692 - mae: 1.5993 - val_loss: 16.2952 - val_mae: 3.0047\n",
      "Epoch 79/100\n",
      "\u001b[1m12/12\u001b[0m \u001b[32m━━━━━━━━━━━━━━━━━━━━\u001b[0m\u001b[37m\u001b[0m \u001b[1m0s\u001b[0m 8ms/step - loss: 4.4635 - mae: 1.6280 - val_loss: 16.9441 - val_mae: 3.0117\n",
      "Epoch 80/100\n",
      "\u001b[1m12/12\u001b[0m \u001b[32m━━━━━━━━━━━━━━━━━━━━\u001b[0m\u001b[37m\u001b[0m \u001b[1m0s\u001b[0m 8ms/step - loss: 5.6059 - mae: 1.8016 - val_loss: 16.7607 - val_mae: 3.0938\n",
      "Epoch 81/100\n",
      "\u001b[1m12/12\u001b[0m \u001b[32m━━━━━━━━━━━━━━━━━━━━\u001b[0m\u001b[37m\u001b[0m \u001b[1m0s\u001b[0m 7ms/step - loss: 4.5062 - mae: 1.5707 - val_loss: 14.4288 - val_mae: 2.8673\n",
      "Epoch 82/100\n",
      "\u001b[1m12/12\u001b[0m \u001b[32m━━━━━━━━━━━━━━━━━━━━\u001b[0m\u001b[37m\u001b[0m \u001b[1m0s\u001b[0m 8ms/step - loss: 4.7497 - mae: 1.6514 - val_loss: 16.3479 - val_mae: 3.0332\n",
      "Epoch 83/100\n",
      "\u001b[1m12/12\u001b[0m \u001b[32m━━━━━━━━━━━━━━━━━━━━\u001b[0m\u001b[37m\u001b[0m \u001b[1m0s\u001b[0m 8ms/step - loss: 4.4522 - mae: 1.5635 - val_loss: 15.8266 - val_mae: 2.9570\n",
      "Epoch 84/100\n",
      "\u001b[1m12/12\u001b[0m \u001b[32m━━━━━━━━━━━━━━━━━━━━\u001b[0m\u001b[37m\u001b[0m \u001b[1m0s\u001b[0m 8ms/step - loss: 4.7662 - mae: 1.6119 - val_loss: 15.1318 - val_mae: 2.8804\n",
      "Epoch 85/100\n",
      "\u001b[1m12/12\u001b[0m \u001b[32m━━━━━━━━━━━━━━━━━━━━\u001b[0m\u001b[37m\u001b[0m \u001b[1m0s\u001b[0m 9ms/step - loss: 4.9650 - mae: 1.6025 - val_loss: 16.2921 - val_mae: 3.0720\n",
      "Epoch 86/100\n",
      "\u001b[1m12/12\u001b[0m \u001b[32m━━━━━━━━━━━━━━━━━━━━\u001b[0m\u001b[37m\u001b[0m \u001b[1m0s\u001b[0m 8ms/step - loss: 4.7591 - mae: 1.6231 - val_loss: 15.4089 - val_mae: 2.9120\n",
      "Epoch 87/100\n",
      "\u001b[1m12/12\u001b[0m \u001b[32m━━━━━━━━━━━━━━━━━━━━\u001b[0m\u001b[37m\u001b[0m \u001b[1m0s\u001b[0m 8ms/step - loss: 4.3660 - mae: 1.5504 - val_loss: 15.6008 - val_mae: 2.9431\n",
      "Epoch 88/100\n",
      "\u001b[1m12/12\u001b[0m \u001b[32m━━━━━━━━━━━━━━━━━━━━\u001b[0m\u001b[37m\u001b[0m \u001b[1m0s\u001b[0m 8ms/step - loss: 4.1539 - mae: 1.4894 - val_loss: 15.6519 - val_mae: 2.9594\n",
      "Epoch 89/100\n",
      "\u001b[1m12/12\u001b[0m \u001b[32m━━━━━━━━━━━━━━━━━━━━\u001b[0m\u001b[37m\u001b[0m \u001b[1m0s\u001b[0m 9ms/step - loss: 4.4449 - mae: 1.5983 - val_loss: 15.8554 - val_mae: 3.0396\n",
      "Epoch 90/100\n",
      "\u001b[1m12/12\u001b[0m \u001b[32m━━━━━━━━━━━━━━━━━━━━\u001b[0m\u001b[37m\u001b[0m \u001b[1m0s\u001b[0m 9ms/step - loss: 4.4211 - mae: 1.5293 - val_loss: 14.7228 - val_mae: 2.9125\n",
      "Epoch 91/100\n",
      "\u001b[1m12/12\u001b[0m \u001b[32m━━━━━━━━━━━━━━━━━━━━\u001b[0m\u001b[37m\u001b[0m \u001b[1m0s\u001b[0m 10ms/step - loss: 4.0661 - mae: 1.5362 - val_loss: 14.5800 - val_mae: 2.8679\n",
      "Epoch 92/100\n",
      "\u001b[1m12/12\u001b[0m \u001b[32m━━━━━━━━━━━━━━━━━━━━\u001b[0m\u001b[37m\u001b[0m \u001b[1m0s\u001b[0m 9ms/step - loss: 4.6601 - mae: 1.6395 - val_loss: 14.8158 - val_mae: 2.8845\n",
      "Epoch 93/100\n",
      "\u001b[1m12/12\u001b[0m \u001b[32m━━━━━━━━━━━━━━━━━━━━\u001b[0m\u001b[37m\u001b[0m \u001b[1m0s\u001b[0m 8ms/step - loss: 3.6444 - mae: 1.4498 - val_loss: 14.9589 - val_mae: 2.9291\n",
      "Epoch 94/100\n",
      "\u001b[1m12/12\u001b[0m \u001b[32m━━━━━━━━━━━━━━━━━━━━\u001b[0m\u001b[37m\u001b[0m \u001b[1m0s\u001b[0m 7ms/step - loss: 4.5694 - mae: 1.6265 - val_loss: 17.6021 - val_mae: 3.1937\n",
      "Epoch 95/100\n",
      "\u001b[1m12/12\u001b[0m \u001b[32m━━━━━━━━━━━━━━━━━━━━\u001b[0m\u001b[37m\u001b[0m \u001b[1m0s\u001b[0m 8ms/step - loss: 4.4280 - mae: 1.5080 - val_loss: 14.3416 - val_mae: 2.7697\n",
      "Epoch 96/100\n",
      "\u001b[1m12/12\u001b[0m \u001b[32m━━━━━━━━━━━━━━━━━━━━\u001b[0m\u001b[37m\u001b[0m \u001b[1m0s\u001b[0m 7ms/step - loss: 3.8388 - mae: 1.5037 - val_loss: 15.0255 - val_mae: 2.9676\n",
      "Epoch 97/100\n",
      "\u001b[1m12/12\u001b[0m \u001b[32m━━━━━━━━━━━━━━━━━━━━\u001b[0m\u001b[37m\u001b[0m \u001b[1m0s\u001b[0m 8ms/step - loss: 3.9494 - mae: 1.4316 - val_loss: 15.0498 - val_mae: 2.9878\n",
      "Epoch 98/100\n",
      "\u001b[1m12/12\u001b[0m \u001b[32m━━━━━━━━━━━━━━━━━━━━\u001b[0m\u001b[37m\u001b[0m \u001b[1m0s\u001b[0m 9ms/step - loss: 3.7838 - mae: 1.4525 - val_loss: 14.3975 - val_mae: 2.8398\n",
      "Epoch 99/100\n",
      "\u001b[1m12/12\u001b[0m \u001b[32m━━━━━━━━━━━━━━━━━━━━\u001b[0m\u001b[37m\u001b[0m \u001b[1m0s\u001b[0m 9ms/step - loss: 3.6292 - mae: 1.4654 - val_loss: 15.5940 - val_mae: 3.0039\n",
      "Epoch 100/100\n",
      "\u001b[1m12/12\u001b[0m \u001b[32m━━━━━━━━━━━━━━━━━━━━\u001b[0m\u001b[37m\u001b[0m \u001b[1m0s\u001b[0m 8ms/step - loss: 4.4932 - mae: 1.5164 - val_loss: 14.4439 - val_mae: 2.9088\n"
     ]
    }
   ],
   "source": [
    "# Train the model\n",
    "history = model.fit(X_train, y_train, epochs=100, validation_split=0.1, verbose=1)"
   ]
  },
  {
   "cell_type": "markdown",
   "id": "a1d6db3d",
   "metadata": {},
   "source": [
    "#### Evaluate The Model"
   ]
  },
  {
   "cell_type": "code",
   "execution_count": 45,
   "id": "104a7219",
   "metadata": {},
   "outputs": [
    {
     "name": "stdout",
     "output_type": "stream",
     "text": [
      "\n",
      "Final test loss (MSE): 12.3704\n",
      "Final test MAE: 2.3685\n"
     ]
    }
   ],
   "source": [
    "# Evaluate the model on test data\n",
    "test_loss, test_mae = model.evaluate(X_test, y_test, verbose=0)\n",
    "print(f\"\\nFinal test loss (MSE): {test_loss:.4f}\")\n",
    "print(f\"Final test MAE: {test_mae:.4f}\")"
   ]
  },
  {
   "cell_type": "markdown",
   "id": "f48367eb",
   "metadata": {},
   "source": [
    "#### Make Predictions"
   ]
  },
  {
   "cell_type": "code",
   "execution_count": 46,
   "id": "785004da",
   "metadata": {},
   "outputs": [
    {
     "name": "stdout",
     "output_type": "stream",
     "text": [
      "\u001b[1m1/1\u001b[0m \u001b[32m━━━━━━━━━━━━━━━━━━━━\u001b[0m\u001b[37m\u001b[0m \u001b[1m0s\u001b[0m 81ms/step\n",
      "Sample 1: Predicted price = 26.12, Actual price = 23.60\n",
      "Sample 2: Predicted price = 34.66, Actual price = 32.40\n",
      "Sample 3: Predicted price = 15.34, Actual price = 13.60\n",
      "Sample 4: Predicted price = 22.22, Actual price = 22.80\n",
      "Sample 5: Predicted price = 17.18, Actual price = 16.10\n"
     ]
    }
   ],
   "source": [
    "# Make predictions on new data\n",
    "predictions = model.predict(X_test[:5])  # Predict on the first 5 test samples\n",
    "\n",
    "# Display predictions and ground truth\n",
    "for i in range(5):\n",
    "    print(f\"Sample {i + 1}: Predicted price = {predictions[i][0]:.2f}, Actual price = {y_test[i][0]:.2f}\")"
   ]
  },
  {
   "cell_type": "markdown",
   "id": "c8b50603",
   "metadata": {},
   "source": [
    "## What is missing here? \n",
    "\n",
    "There is no explicit call to do backward propogation here. Instead, TensorFlow automatically handles both the forward pass and backpropagation during training when model.fit() is called.\n",
    "\n",
    "During the forward pass, TensorFlow propagates the input through the network, computing the output by applying the weights, biases, and activation functions at each layer. \n",
    "\n",
    "It then calculates the loss by comparing the predicted output to the actual target using the specified loss function (e.g., mean squared error). \n",
    "\n",
    "In the backward pass (backpropagation), TensorFlow computes the gradients of the loss with respect to the model parameters (weights and biases) using automatic differentiation. The optimizer (e.g., Adam) updates the parameters using these gradients to minimize the loss.\n",
    "\n",
    "**This entire process is automated and optimized within TensorFlow using the computational graph and tf.GradientTape internally.** As a result, you don’t need to manually compute gradients or update weights as TensorFlow does these steps under the hood."
   ]
  },
  {
   "cell_type": "code",
   "execution_count": 54,
   "id": "86e3fb8b",
   "metadata": {},
   "outputs": [],
   "source": [
    "# Build a simple neural network using TensorFlow\n",
    "model = tf.keras.Sequential([\n",
    "    tf.keras.layers.Input(shape=(X_train.shape[1],)),  # Input layer (13 features)\n",
    "    tf.keras.layers.Dense(64, activation='relu'),  # Hidden layer with 64 neurons\n",
    "    tf.keras.layers.Dense(1)  # Output layer for regression (1 output)\n",
    "])"
   ]
  },
  {
   "cell_type": "code",
   "execution_count": 55,
   "id": "4f209d10",
   "metadata": {},
   "outputs": [],
   "source": [
    "# Compile the model with the optimizer and loss function\n",
    "model.compile(optimizer=tf.keras.optimizers.Adam(learning_rate=0.01),\n",
    "              loss='mean_squared_error',\n",
    "              metrics=['mae'])"
   ]
  },
  {
   "cell_type": "code",
   "execution_count": 56,
   "id": "d1df0407",
   "metadata": {},
   "outputs": [
    {
     "name": "stdout",
     "output_type": "stream",
     "text": [
      "Epoch 0, Loss: 603.97705078125\n",
      "Epoch 10, Loss: 426.5850830078125\n",
      "Epoch 20, Loss: 225.91990661621094\n",
      "Epoch 30, Loss: 92.0041732788086\n",
      "Epoch 40, Loss: 56.11149597167969\n",
      "Epoch 50, Loss: 32.889400482177734\n",
      "Epoch 60, Loss: 26.908130645751953\n",
      "Epoch 70, Loss: 23.291658401489258\n",
      "Epoch 80, Loss: 20.429279327392578\n",
      "Epoch 90, Loss: 18.548315048217773\n"
     ]
    }
   ],
   "source": [
    "optimizer = tf.keras.optimizers.Adam(learning_rate=0.01)\n",
    "loss_fn = tf.keras.losses.MeanSquaredError()\n",
    "\n",
    "# Manual training loop with backpropagation\n",
    "epochs = 100\n",
    "for epoch in range(epochs):\n",
    "    with tf.GradientTape() as tape:\n",
    "        predictions = model(X_train, training=True)  # Forward pass\n",
    "        loss = loss_fn(y_train, predictions)  # Compute loss\n",
    "    \n",
    "    # Backpropagation: compute gradients\n",
    "    gradients = tape.gradient(loss, model.trainable_variables)\n",
    "    \n",
    "    # Apply gradients to update weights\n",
    "    optimizer.apply_gradients(zip(gradients, model.trainable_variables))\n",
    "    \n",
    "    if epoch % 10 == 0:\n",
    "        print(f\"Epoch {epoch}, Loss: {loss.numpy()}\")"
   ]
  },
  {
   "cell_type": "code",
   "execution_count": 57,
   "id": "2b58bbbd",
   "metadata": {},
   "outputs": [
    {
     "name": "stdout",
     "output_type": "stream",
     "text": [
      "\n",
      "Final test loss (MSE): 19.0866\n",
      "Final test MAE: 2.9208\n"
     ]
    }
   ],
   "source": [
    "# Evaluate the model on test data\n",
    "test_loss, test_mae = model.evaluate(X_test, y_test, verbose=0)\n",
    "print(f\"\\nFinal test loss (MSE): {test_loss:.4f}\")\n",
    "print(f\"Final test MAE: {test_mae:.4f}\")"
   ]
  },
  {
   "cell_type": "code",
   "execution_count": 58,
   "id": "40a1cec1",
   "metadata": {},
   "outputs": [
    {
     "name": "stdout",
     "output_type": "stream",
     "text": [
      "WARNING:tensorflow:5 out of the last 8 calls to <function TensorFlowTrainer.make_predict_function.<locals>.one_step_on_data_distributed at 0x1313deee0> triggered tf.function retracing. Tracing is expensive and the excessive number of tracings could be due to (1) creating @tf.function repeatedly in a loop, (2) passing tensors with different shapes, (3) passing Python objects instead of tensors. For (1), please define your @tf.function outside of the loop. For (2), @tf.function has reduce_retracing=True option that can avoid unnecessary retracing. For (3), please refer to https://www.tensorflow.org/guide/function#controlling_retracing and https://www.tensorflow.org/api_docs/python/tf/function for  more details.\n",
      "\u001b[1m1/1\u001b[0m \u001b[32m━━━━━━━━━━━━━━━━━━━━\u001b[0m\u001b[37m\u001b[0m \u001b[1m0s\u001b[0m 67ms/step\n",
      "Sample 1: Predicted price = 29.00, Actual price = 23.60\n",
      "Sample 2: Predicted price = 32.18, Actual price = 32.40\n",
      "Sample 3: Predicted price = 22.53, Actual price = 13.60\n",
      "Sample 4: Predicted price = 27.99, Actual price = 22.80\n",
      "Sample 5: Predicted price = 17.18, Actual price = 16.10\n"
     ]
    }
   ],
   "source": [
    "# Make predictions on new data\n",
    "predictions = model.predict(X_test[:5])  # Predict on the first 5 test samples\n",
    "\n",
    "# Display predictions and ground truth\n",
    "for i in range(5):\n",
    "    print(f\"Sample {i + 1}: Predicted price = {predictions[i][0]:.2f}, Actual price = {y_test[i][0]:.2f}\")"
   ]
  },
  {
   "cell_type": "markdown",
   "id": "a643aaa7",
   "metadata": {},
   "source": [
    "## Vanishing And Exploding Gradients\n",
    "\n",
    "As neural networks grow deeper (with more layers), training them can become unstable due to challenges such as vanishing gradients and exploding gradients. These challenges directly affect the performance of the network, causing either slow learning or unstable weight updates.\n",
    "\n",
    "#### Vanishing Gradients\n",
    "\n",
    "  During backpropagation, gradients are computed using the chain rule and propagated backward from the output layer to earlier layers. As the gradient flows backward, it is multiplied by small derivatives, especially if the network uses activation functions like **sigmoid** or **tanh**. This multiplication causes the gradients to become smaller and smaller as they move toward the input layer, effectively “vanishing.”\n",
    "\n",
    "- **Why is this a problem?**  \n",
    "  - Weights in the earlier layers are updated very slowly or not at all, making it difficult for the network to learn meaningful features.  \n",
    "  - This is particularly problematic for deep networks and recurrent neural networks (RNNs), where gradients may vanish before reaching the initial layers.\n",
    "\n",
    "- **Explaining the math:**  \n",
    "  Suppose you have a network with several layers, and the activation function is **sigmoid**. The derivative of the sigmoid function is given by:  \n",
    "  \n",
    "  $$\n",
    "  \\sigma'(z) = \\sigma(z) \\cdot (1 - \\sigma(z))\n",
    "  $$\n",
    "  \n",
    "  The maximum derivative of the sigmoid function is **0.25**. As the chain rule multiplies these small derivatives across layers, the gradients exponentially decrease, leading to very small updates.\n",
    "\n",
    "\n",
    "#### Exploding Gradients\n",
    "\n",
    "  The opposite of vanishing gradients occurs when the gradients grow exponentially large during backpropagation. This typically happens when the weights are initialized with large values or when the network is poorly tuned.\n",
    "\n",
    "- **Why is this a problem?**  \n",
    "  - Large gradients result in **unstable weight updates**, causing the loss to diverge rather than converge.  \n",
    "  - The model fails to learn, and the training process may halt due to numerical instability.\n",
    "\n",
    "- **Instability due to large gradients:**  \n",
    "  Consider a network using **ReLU** activation where the gradient does not saturate like in sigmoid or tanh. If the gradients of the loss with respect to the weights accumulate too quickly (due to large activations or poorly initialized weights), the updates during gradient descent can become excessively large, resulting in erratic or diverging loss values."
   ]
  },
  {
   "cell_type": "markdown",
   "id": "b2e3329c",
   "metadata": {},
   "source": [
    "## Ways Of Correcting Vanishing And Exploding Gradients\n",
    "\n",
    "### Activation Function Choices\n",
    "\n",
    "The choice of activation functions can significantly affect how gradients propagate through the network.  \n",
    "\n",
    "- **Sigmoid and tanh** tend to cause vanishing gradients due to their saturating outputs.  \n",
    "- **ReLU (Rectified Linear Unit)** and its variants (e.g., **Leaky ReLU**, **Parametric ReLU**) are preferred because they do not saturate for positive inputs, helping alleviate vanishing gradient problems.\n",
    "\n",
    "**Example:**  \n",
    "- Using **ReLU**:  \n",
    "  $$\n",
    "  f(x) = \\max(0, x)\n",
    "  $$\n",
    "  \n",
    "  The derivative is either **1** (for positive inputs) or **0** (for negative inputs). This ensures that the gradient does not decay as rapidly as in sigmoid or tanh.\n",
    "\n",
    "### Batch Normalization\n",
    "\n",
    "Batch normalization normalizes the inputs to each layer, ensuring that the values lie within a stable range during training.  \n",
    "\n",
    "- **How it helps:** By normalizing the inputs, batch normalization prevents the gradients from becoming too small or too large.  \n",
    "- **Where it’s applied:** Typically applied before or after the activation function within each layer.\n",
    "- **Effect of batch normalization:**  \n",
    "    - Reduces internal covariate shift (where input distributions change during training). \n",
    "    - Helps accelerate training by making the gradients more stable.\n"
   ]
  },
  {
   "cell_type": "code",
   "execution_count": null,
   "id": "e66e7925",
   "metadata": {},
   "outputs": [],
   "source": [
    "from tensorflow.keras.layers import Dense, BatchNormalization, ReLU\n",
    "from tensorflow.keras import Sequential\n",
    "\n",
    "# Adding batch normalization in a neural network\n",
    "model = Sequential([\n",
    "    Dense(64, input_shape=(10,)),\n",
    "    BatchNormalization(),  # Normalizes the inputs to this layer\n",
    "    ReLU(),  # Activation function after normalization\n",
    "    Dense(1)  # Output layer\n",
    "])"
   ]
  },
  {
   "cell_type": "markdown",
   "id": "a04275f8",
   "metadata": {},
   "source": [
    "### Weight Initialization Techniques\n",
    "\n",
    "Proper weight initialization can reduce both vanishing and exploding gradients by ensuring that the initial values of the weights do not lead to excessively large or small activations.\n",
    "\n",
    "- **Xavier Initialization (Glorot Initialization):**  \n",
    "  Used for layers with **sigmoid** or **tanh** activations.  \n",
    "  $$\n",
    "  W \\sim \\mathcal{U} \\left( -\\sqrt{\\frac{6}{n_{\\text{in}} + n_{\\text{out}}}}, \\sqrt{\\frac{6}{n_{\\text{in}} + n_{\\text{out}}}} \\right)\n",
    "  $$\n",
    "\n",
    "- **He Initialization:**  \n",
    "  Used for layers with **ReLU** activations.  \n",
    "  $$\n",
    "  W \\sim \\mathcal{N} \\left( 0, \\frac{2}{n_{\\text{in}}} \\right)\n",
    "  $$\n"
   ]
  },
  {
   "cell_type": "code",
   "execution_count": null,
   "id": "08f48baf",
   "metadata": {},
   "outputs": [],
   "source": [
    "from tensorflow.keras.layers import Dense\n",
    "from tensorflow.keras.initializers import HeNormal\n",
    "\n",
    "model = Sequential([\n",
    "    Dense(64, input_shape=(10,), kernel_initializer=HeNormal()),  # He initialization for ReLU\n",
    "    tf.keras.layers.ReLU(),\n",
    "    Dense(1)\n",
    "])"
   ]
  },
  {
   "cell_type": "markdown",
   "id": "ef33f3b0",
   "metadata": {},
   "source": [
    "### Residual Connections (ResNets)\n",
    "\n",
    "Residual networks (ResNets) address vanishing gradients in very deep networks by allowing the gradient to flow more directly through the network. Instead of passing the input through many layers sequentially, **residual connections** skip layers by adding the input to the output of a layer.\n",
    "\n",
    "**How it helps:**  \n",
    "- Residual connections help maintain a strong gradient signal even in deep networks by allowing the network to learn **identity mappings**.\n",
    "\n",
    "**Residual connection formula:**  \n",
    "\n",
    "Given the input $x$ and a function $F(x)$ representing the transformation of the layer:  \n",
    "\n",
    "$$\n",
    "\\text{Output} = F(x) + x\n",
    "$$\n"
   ]
  },
  {
   "cell_type": "code",
   "execution_count": null,
   "id": "e8b4ff31",
   "metadata": {},
   "outputs": [],
   "source": [
    "import tensorflow as tf\n",
    "\n",
    "class ResidualBlock(tf.keras.Model):\n",
    "    def __init__(self, units):\n",
    "        super(ResidualBlock, self).__init__()\n",
    "        self.dense1 = tf.keras.layers.Dense(units, activation='relu')\n",
    "        self.dense2 = tf.keras.layers.Dense(units)\n",
    "\n",
    "    def call(self, inputs):\n",
    "        x = self.dense1(inputs)\n",
    "        x = self.dense2(x)\n",
    "        return x + inputs  # Residual connection"
   ]
  },
  {
   "cell_type": "code",
   "execution_count": null,
   "id": "dbfab741",
   "metadata": {},
   "outputs": [],
   "source": []
  },
  {
   "cell_type": "code",
   "execution_count": null,
   "id": "061237fc",
   "metadata": {},
   "outputs": [],
   "source": []
  }
 ],
 "metadata": {
  "kernelspec": {
   "display_name": "Python 3 (ipykernel)",
   "language": "python",
   "name": "python3"
  },
  "language_info": {
   "codemirror_mode": {
    "name": "ipython",
    "version": 3
   },
   "file_extension": ".py",
   "mimetype": "text/x-python",
   "name": "python",
   "nbconvert_exporter": "python",
   "pygments_lexer": "ipython3",
   "version": "3.10.11"
  }
 },
 "nbformat": 4,
 "nbformat_minor": 5
}
