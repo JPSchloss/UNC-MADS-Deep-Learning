{
 "cells": [
  {
   "cell_type": "markdown",
   "id": "2eb73881",
   "metadata": {},
   "source": [
    "# Feed Forward Neural Networks\n",
    "\n",
    "Feed-forward neural networks (FFNNs) are among the simplest and most fundamental types of artificial neural networks. They consist of an **input layer**, one or more **hidden layers**, and an **output layer**. In an FFNN, data flows strictly in one direction—from the input layer, through the hidden layers, to the output layer—hence the name **\"feed-forward\"**.\n",
    "\n",
    "FFNNs are designed to model complex relationships between input and output data by **learning weights and biases** during the training process. The key idea behind FFNNs is to find a mapping from inputs to outputs by minimizing the **loss function**, which measures the difference between the network’s predictions and the actual target values.\n",
    "\n",
    "These networks are versatile and can be used for various tasks, such as:\n",
    "- **Regression:** Predicting continuous values, like house prices.\n",
    "- **Classification:** Assigning input data to predefined categories, like classifying images of animals.\n",
    "- **Feature Extraction:** Transforming raw data into more meaningful representations, like extracting features from text or images."
   ]
  },
  {
   "cell_type": "markdown",
   "id": "d27aad08",
   "metadata": {},
   "source": [
    "![](https://machinelearningknowledge.ai/wp-content/uploads/2019/10/Feed-Forward-Neural-Network.gif)"
   ]
  },
  {
   "cell_type": "markdown",
   "id": "b012ed9f",
   "metadata": {},
   "source": [
    "## Feed Forward Model Structure\n",
    "\n",
    "### Key Components\n",
    "\n",
    "In a feed-forward neural network, the structure is composed of several key components: the **input layer**, **hidden layers**, and the **output layer**. These components work together to transform raw input data into meaningful output predictions through a series of mathematical operations.\n",
    "\n",
    "#### Input Layer:\n",
    "The input layer is the initial stage of the network where raw data enters. Each neuron in the input layer corresponds to a feature from the dataset. For instance, if you are working with the Iris dataset, which contains four features (like petal length and petal width), the input layer would have four neurons.\n",
    "\n",
    "The input layer itself does not perform any computation. Its primary function is to accept the feature values and pass them on to the next layer (the first hidden layer). Essentially, the input layer acts as a conduit that makes the data available to the network.\n",
    "\n",
    "#### Hidden Layers:\n",
    "The hidden layers form the intermediate steps between the input and output. They are called \"hidden\" because they do not directly interact with the input or output; instead, they process intermediate representations.\n",
    "\n",
    "In a hidden layer, each neuron computes a **weighted sum** of the inputs it receives from the previous layer. This weighted sum is then passed through an **activation function** to introduce non-linearity. Non-linearity is crucial because it enables the network to learn complex patterns beyond simple linear relationships.\n",
    "\n",
    "The hidden layers capture intricate correlations and interactions among features. As data moves through multiple hidden layers, the network progressively extracts higher-level features. For example:\n",
    "- In image classification, the first hidden layer may detect edges, while deeper layers might detect shapes or objects.\n",
    "- In natural language processing, initial layers might capture word-level patterns, while deeper layers understand sentence structures.\n",
    "\n",
    "#### Output Layer:\n",
    "The output layer is the final stage of the feed-forward network. It takes the transformed data from the last hidden layer and produces the final predictions. The number of neurons in the output layer depends on the nature of the problem:\n",
    "- For **regression**, a single neuron may output a continuous value.\n",
    "- For **binary classification**, one neuron outputs a probability (using a **sigmoid** function).\n",
    "- For **multi-class classification**, multiple neurons output the probabilities for each class (using a **softmax** function).\n",
    "\n",
    "The output from this layer represents the model's prediction. During training, the predicted output is compared with the true output using a loss function. The network adjusts its weights and biases to minimize this loss.\n",
    "\n"
   ]
  },
  {
   "cell_type": "markdown",
   "id": "6dd1b8b8",
   "metadata": {},
   "source": [
    "## Mathematical Formulation\n",
    "\n",
    "In feed-forward neural networks, each layer performs a sequence of operations: linear transformation, non-linear activation, and an additional transformation in the output layer, if required.\n",
    "\n",
    "#### Step 1: Linear Transformation (Hidden Layer)\n",
    "\n",
    "The first step in each layer (after the input) is to perform a **linear transformation** on the data:\n",
    "\n",
    "$$\n",
    "z^{(1)} = X W_1 + b_1\n",
    "$$\n",
    "\n",
    "This equation represents the linear combination of inputs:\n",
    "- $X$ is the **input matrix**, where each row represents an example and each column represents a feature.\n",
    "- $W_1$ is the **weight matrix** for the hidden layer, which connects the input neurons to the hidden neurons.\n",
    "- $b_1$ is the **bias vector**, which allows the model to better fit the data by shifting the activation function.\n",
    "\n",
    "The purpose of this step is to project the input data into a new space defined by the weights. The weights determine how strongly each input influences the output. The bias adjusts the output independently of the inputs, allowing the model to fit data more flexibly.\n",
    "\n",
    "#### Step 2: Activation Function (Hidden Layer)\n",
    "\n",
    "After the linear transformation, we introduce **non-linearity** using an activation function:\n",
    "\n",
    "$$\n",
    "a^{(1)} = \\sigma(z^{(1)})\n",
    "$$\n",
    "\n",
    "The activation function ($\\sigma$) allows the model to learn complex patterns. Without non-linearity, the entire network would essentially be equivalent to a single linear transformation, regardless of how many layers were added.\n",
    "\n",
    "#### Step 3: Linear Transformation (Output Layer)\n",
    "\n",
    "The next step is to compute the output of the network:\n",
    "\n",
    "$$\n",
    "z^{(2)} = a^{(1)} W_2 + b_2\n",
    "$$\n",
    "\n",
    "This step works similarly to the first transformation but applies to the activations from the hidden layer instead of the raw inputs. It maps the non-linear feature representation to the output space.\n",
    "\n",
    "#### Step 4: Activation Function (Output Layer)\n",
    "\n",
    "The final transformation typically involves an activation function that matches the task:\n",
    "\n",
    "$$\n",
    "\\hat{y} = \\sigma(z^{(2)})\n",
    "$$\n",
    "\n",
    "For binary classification, this could be a **sigmoid** function, while for multi-class classification, it might be a **softmax** function. In regression tasks, the output layer might simply be linear."
   ]
  },
  {
   "cell_type": "markdown",
   "id": "c46543fa",
   "metadata": {},
   "source": [
    "## Single Layer Perceptron\n",
    "\n",
    "![](https://encrypted-tbn0.gstatic.com/images?q=tbn:ANd9GcT_HUW3mYbYMnPZswcS6X_2jrWDnoSH3z79wA&s)\n",
    "\n",
    "### Introduction to Single-Layer Perceptrons\n",
    "\n",
    "The single-layer perceptron is one of the simplest types of neural networks, forming the foundation of feed-forward neural networks. It consists of:\n",
    "\n",
    "- **An input layer** that takes features from the dataset.\n",
    "- **A single hidden layer** where weighted sums of inputs are calculated and passed through an activation function (e.g., sigmoid) to introduce non-linearity.\n",
    "- **An output layer** that provides the final predictions.\n",
    "\n",
    "Mathematically, this looks like: \n",
    "\n",
    "$$\n",
    "\\hat{y} = \\sigma(X W + b)\n",
    "$$\n",
    "\n",
    "Where:\n",
    "- $X$ is the input data.\n",
    "- $W$ is the weight vector.\n",
    "- $b$ is the bias.\n",
    "- $\\sigma$ is the activation function.\n",
    "\n",
    "Although a single-layer perceptron has limited expressiveness (it can only learn linearly separable patterns), it is an important step in understanding the basic operations of neural networks. Extending the concept to include multiple layers (multi-layer perceptrons) allows for the approximation of more complex, non-linear functions.\n"
   ]
  },
  {
   "cell_type": "markdown",
   "id": "14486414",
   "metadata": {},
   "source": [
    "### Example Of A Single-Layer Perceptron"
   ]
  },
  {
   "cell_type": "code",
   "execution_count": 42,
   "id": "6caadb91",
   "metadata": {},
   "outputs": [],
   "source": [
    "import numpy as np"
   ]
  },
  {
   "cell_type": "code",
   "execution_count": 43,
   "id": "90b3085e",
   "metadata": {},
   "outputs": [],
   "source": [
    "# Define activation function (step function)\n",
    "step_function = lambda x: np.where(x > 0, 1, 0)  # Binary step activation function"
   ]
  },
  {
   "cell_type": "code",
   "execution_count": 44,
   "id": "3a363b4b",
   "metadata": {},
   "outputs": [],
   "source": [
    "# Define model architecture\n",
    "N, input_sz = 100, 50  # Number of samples, input size\n",
    "w = np.random.rand(input_sz, 1)  # Weights for input to output\n",
    "b = np.random.rand(1)  # Bias term\n",
    "X = np.random.rand(N, input_sz)  # Random training input data\n",
    "y = np.where(np.random.rand(N, 1) > 0.5, 1, 0)  # Random binary target values"
   ]
  },
  {
   "cell_type": "code",
   "execution_count": 45,
   "id": "2f4aaeac",
   "metadata": {},
   "outputs": [],
   "source": [
    "# Training parameters\n",
    "learning_rate = 0.01\n",
    "epochs = 100\n",
    "\n",
    "# Training loop\n",
    "for epoch in range(epochs):\n",
    "    # Forward pass\n",
    "    z = X.dot(w) + b  # Linear transformation\n",
    "    predictions = step_function(z)  # Apply step activation function\n",
    "    \n",
    "    # Compute error\n",
    "    errors = y - predictions\n",
    "    \n",
    "    # Weight and bias updates (Perceptron Learning Rule)\n",
    "    w += learning_rate * X.T.dot(errors)  # Update weights\n",
    "    b += learning_rate * errors.sum()  # Update bias"
   ]
  },
  {
   "cell_type": "code",
   "execution_count": 46,
   "id": "637b10ec",
   "metadata": {},
   "outputs": [],
   "source": [
    "# Calculate final accuracy\n",
    "final_predictions = step_function(X.dot(w) + b)\n",
    "accuracy = np.mean(final_predictions == y) * 100  # Percentage of correctly classified samples\n",
    "misclassified_count = np.sum(final_predictions != y)"
   ]
  },
  {
   "cell_type": "code",
   "execution_count": 48,
   "id": "7c45ac2d",
   "metadata": {},
   "outputs": [
    {
     "name": "stdout",
     "output_type": "stream",
     "text": [
      "Final Accuracy: 57.00%\n",
      "Number of Misclassified Samples: 43\n",
      "\n",
      "\n",
      "Learned Weights (first 5):[-0.23764498  0.06879015  1.05068002 -0.3534701   1.27304205]\n",
      "Learned Bias: 0.1541\n"
     ]
    }
   ],
   "source": [
    "# Print summary\n",
    "print(f\"Final Accuracy: {accuracy:.2f}%\")\n",
    "print(f\"Number of Misclassified Samples: {misclassified_count}\")\n",
    "print(f\"\\n\")\n",
    "print(f\"Learned Weights (first 5):{w[:5].flatten()}\")\n",
    "print(f\"Learned Bias: {b[0]:.4f}\")"
   ]
  },
  {
   "cell_type": "markdown",
   "id": "6d8ed448",
   "metadata": {},
   "source": [
    "## Two Layer Neural Network\n",
    "\n",
    "A **Two Layer Neural Network** (also called a **Multi-Layer Perceptron (MLP)**) extends the single-layer perceptron by adding one hidden layer:\n",
    "\n",
    "$$\n",
    "z^{(1)} = X W_1 + b_1\n",
    "$$\n",
    "\n",
    "$$\n",
    "a^{(1)} = \\sigma(z^{(1)})\n",
    "$$\n",
    "\n",
    "$$\n",
    "z^{(2)} = a^{(1)} W_2 + b_2\n",
    "$$\n",
    "\n",
    "$$\n",
    "\\hat{y} = \\sigma(z^{(2)})\n",
    "$$\n",
    "\n",
    "The hidden layer allows the network to learn **non-linear mappings**, which makes it more powerful than a single-layer perceptron. This model can approximate complex functions, including those that are not linearly separable."
   ]
  },
  {
   "cell_type": "code",
   "execution_count": 49,
   "id": "04c44f39",
   "metadata": {},
   "outputs": [],
   "source": [
    "import numpy as np"
   ]
  },
  {
   "cell_type": "code",
   "execution_count": 50,
   "id": "7c9bc561",
   "metadata": {},
   "outputs": [],
   "source": [
    "# Define activation function and its derivative\n",
    "sigmoid = lambda x: 1 / (1 + np.exp(-x))  # Sigmoid activation function\n",
    "dsigmoid = lambda x: x * (1 - x)  # Derivative of sigmoid"
   ]
  },
  {
   "cell_type": "code",
   "execution_count": 51,
   "id": "1f0e5b27",
   "metadata": {},
   "outputs": [],
   "source": [
    "# Define model architecture\n",
    "N, input_sz, hidden_sz = 100, 50, 10  # Number of samples, input size, hidden layer size\n",
    "w1 = np.random.rand(input_sz, hidden_sz)  # Weights for input to hidden layer\n",
    "w2 = np.random.rand(hidden_sz, 1)  # Weights for hidden layer to output\n",
    "X = np.random.rand(N, input_sz)  # Random training input data\n",
    "y = np.where(np.random.rand(N, 1) > 0.5, 1, 0)  # Random binary target values (0 or 1)"
   ]
  },
  {
   "cell_type": "code",
   "execution_count": 52,
   "id": "47688bac",
   "metadata": {},
   "outputs": [],
   "source": [
    "# Training parameters\n",
    "learning_rate = 1e-2  # Learning rate\n",
    "epochs = 1000  # Number of training iterations\n",
    "\n",
    "# Training loop\n",
    "for epoch in range(epochs):\n",
    "    # Forward pass\n",
    "    hidden = sigmoid(X.dot(w1))  # Compute hidden layer outputs\n",
    "    output = sigmoid(hidden.dot(w2))  # Compute final output predictions\n",
    "\n",
    "    # Compute gradients\n",
    "    grad_w2 = hidden.T.dot((output - y) * dsigmoid(output))  # Gradient for w2\n",
    "    grad_w1 = X.T.dot(((output - y) * dsigmoid(output)).dot(w2.T) * dsigmoid(hidden))  # Gradient for w1\n",
    "\n",
    "    # Gradient descent step\n",
    "    w2 -= learning_rate * grad_w2\n",
    "    w1 -= learning_rate * grad_w1"
   ]
  },
  {
   "cell_type": "code",
   "execution_count": 53,
   "id": "9c04dd70",
   "metadata": {},
   "outputs": [],
   "source": [
    "# Calculate final predictions and metrics\n",
    "final_hidden = sigmoid(X.dot(w1))  # Hidden layer output\n",
    "final_output = sigmoid(final_hidden.dot(w2))  # Final predictions\n",
    "final_predictions = np.where(final_output > 0.5, 1, 0)  # Convert probabilities to binary outputs\n",
    "accuracy = np.mean(final_predictions == y) * 100  # Accuracy percentage\n",
    "misclassified_count = np.sum(final_predictions != y)  # Count misclassified samples"
   ]
  },
  {
   "cell_type": "code",
   "execution_count": 55,
   "id": "c59cd733",
   "metadata": {},
   "outputs": [
    {
     "name": "stdout",
     "output_type": "stream",
     "text": [
      "Final Accuracy: 52.00%\n",
      "Number of Misclassified Samples: 48\n",
      "\n",
      "\n",
      "Learned Weights w1 (first 5):\n",
      "[[0.24364929 0.22247049]\n",
      " [0.26751557 0.24084542]\n",
      " [0.41123871 0.78321157]\n",
      " [0.8958381  0.37073347]\n",
      " [0.10388157 0.40481027]]\n",
      "Learned Weights w2 (first 5):[-0.05760391  0.37057464 -0.40041812  0.25684652 -0.35307745]\n"
     ]
    }
   ],
   "source": [
    "# Print summary\n",
    "print(f\"Final Accuracy: {accuracy:.2f}%\")\n",
    "print(f\"Number of Misclassified Samples: {misclassified_count}\")\n",
    "print(f\"\\n\")\n",
    "print(f\"Learned Weights w1 (first 5):\\n{w1[:5, :2]}\")  # Print a sample of w1 weights\n",
    "print(f\"Learned Weights w2 (first 5):{w2[:5].flatten()}\")  # Print a sample of w2 weights"
   ]
  },
  {
   "cell_type": "markdown",
   "id": "2d9b5edc",
   "metadata": {},
   "source": [
    "## More Modern Coding Example"
   ]
  },
  {
   "cell_type": "markdown",
   "id": "0dc5e8ef",
   "metadata": {},
   "source": [
    "#### Import Libraries"
   ]
  },
  {
   "cell_type": "code",
   "execution_count": 56,
   "id": "31a3c4d5",
   "metadata": {},
   "outputs": [],
   "source": [
    "import numpy as np\n",
    "import tensorflow as tf\n",
    "import keras\n",
    "from keras.models import Sequential\n",
    "from keras.layers import Dense\n",
    "from keras.optimizers import SGD\n",
    "from sklearn.model_selection import train_test_split\n",
    "from sklearn.metrics import accuracy_score"
   ]
  },
  {
   "cell_type": "markdown",
   "id": "1fd21fcf",
   "metadata": {},
   "source": [
    "#### Prepare The Data"
   ]
  },
  {
   "cell_type": "code",
   "execution_count": 57,
   "id": "8777f5be",
   "metadata": {},
   "outputs": [],
   "source": [
    "# Generate random binary classification data\n",
    "np.random.seed(42)\n",
    "X = np.random.rand(1000, 20)  # 1000 samples, 20 features\n",
    "y = (np.sum(X, axis=1) > 10).astype(int)  # Binary target: 1 if sum of features > 10, else 0\n",
    "\n",
    "# Split data into training and testing sets\n",
    "X_train, X_test, y_train, y_test = train_test_split(X, y, test_size=0.2, random_state=42)"
   ]
  },
  {
   "cell_type": "markdown",
   "id": "21141c65",
   "metadata": {},
   "source": [
    "#### Build And Compile The Model"
   ]
  },
  {
   "cell_type": "code",
   "execution_count": 58,
   "id": "6d2a4dcb",
   "metadata": {},
   "outputs": [
    {
     "name": "stderr",
     "output_type": "stream",
     "text": [
      "/Users/jonathanschlosser/anaconda3/envs/pytorch_env/lib/python3.11/site-packages/keras/src/layers/core/dense.py:87: UserWarning: Do not pass an `input_shape`/`input_dim` argument to a layer. When using Sequential models, prefer using an `Input(shape)` object as the first layer in the model instead.\n",
      "  super().__init__(activity_regularizer=activity_regularizer, **kwargs)\n"
     ]
    }
   ],
   "source": [
    "# Build the two-layer neural network\n",
    "model = Sequential([\n",
    "    Dense(10, activation='relu', input_shape=(20,)),  # First hidden layer with 10 neurons\n",
    "    Dense(5, activation='relu'),  # Second hidden layer with 5 neurons\n",
    "    Dense(1, activation='sigmoid')  # Output layer for binary classification\n",
    "])\n",
    "\n",
    "# Compile the model\n",
    "model.compile(optimizer=SGD(learning_rate=0.01),\n",
    "              loss='binary_crossentropy',\n",
    "              metrics=['accuracy'])"
   ]
  },
  {
   "cell_type": "markdown",
   "id": "fb68d6fe",
   "metadata": {},
   "source": [
    "#### Train The Model"
   ]
  },
  {
   "cell_type": "code",
   "execution_count": 59,
   "id": "f33cb188",
   "metadata": {},
   "outputs": [
    {
     "name": "stdout",
     "output_type": "stream",
     "text": [
      "Epoch 1/50\n",
      "\u001b[1m20/20\u001b[0m \u001b[32m━━━━━━━━━━━━━━━━━━━━\u001b[0m\u001b[37m\u001b[0m \u001b[1m1s\u001b[0m 15ms/step - accuracy: 0.4460 - loss: 0.7242 - val_accuracy: 0.4688 - val_loss: 0.7119\n",
      "Epoch 2/50\n",
      "\u001b[1m20/20\u001b[0m \u001b[32m━━━━━━━━━━━━━━━━━━━━\u001b[0m\u001b[37m\u001b[0m \u001b[1m0s\u001b[0m 5ms/step - accuracy: 0.4436 - loss: 0.7227 - val_accuracy: 0.4437 - val_loss: 0.7074\n",
      "Epoch 3/50\n",
      "\u001b[1m20/20\u001b[0m \u001b[32m━━━━━━━━━━━━━━━━━━━━\u001b[0m\u001b[37m\u001b[0m \u001b[1m0s\u001b[0m 5ms/step - accuracy: 0.4392 - loss: 0.7184 - val_accuracy: 0.4062 - val_loss: 0.7041\n",
      "Epoch 4/50\n",
      "\u001b[1m20/20\u001b[0m \u001b[32m━━━━━━━━━━━━━━━━━━━━\u001b[0m\u001b[37m\u001b[0m \u001b[1m0s\u001b[0m 5ms/step - accuracy: 0.5012 - loss: 0.6999 - val_accuracy: 0.4250 - val_loss: 0.7014\n",
      "Epoch 5/50\n",
      "\u001b[1m20/20\u001b[0m \u001b[32m━━━━━━━━━━━━━━━━━━━━\u001b[0m\u001b[37m\u001b[0m \u001b[1m0s\u001b[0m 5ms/step - accuracy: 0.4736 - loss: 0.7044 - val_accuracy: 0.4437 - val_loss: 0.6991\n",
      "Epoch 6/50\n",
      "\u001b[1m20/20\u001b[0m \u001b[32m━━━━━━━━━━━━━━━━━━━━\u001b[0m\u001b[37m\u001b[0m \u001b[1m0s\u001b[0m 5ms/step - accuracy: 0.4742 - loss: 0.7010 - val_accuracy: 0.4812 - val_loss: 0.6974\n",
      "Epoch 7/50\n",
      "\u001b[1m20/20\u001b[0m \u001b[32m━━━━━━━━━━━━━━━━━━━━\u001b[0m\u001b[37m\u001b[0m \u001b[1m0s\u001b[0m 5ms/step - accuracy: 0.4855 - loss: 0.6964 - val_accuracy: 0.5000 - val_loss: 0.6960\n",
      "Epoch 8/50\n",
      "\u001b[1m20/20\u001b[0m \u001b[32m━━━━━━━━━━━━━━━━━━━━\u001b[0m\u001b[37m\u001b[0m \u001b[1m0s\u001b[0m 5ms/step - accuracy: 0.4522 - loss: 0.7008 - val_accuracy: 0.5125 - val_loss: 0.6951\n",
      "Epoch 9/50\n",
      "\u001b[1m20/20\u001b[0m \u001b[32m━━━━━━━━━━━━━━━━━━━━\u001b[0m\u001b[37m\u001b[0m \u001b[1m0s\u001b[0m 5ms/step - accuracy: 0.4949 - loss: 0.6973 - val_accuracy: 0.5188 - val_loss: 0.6945\n",
      "Epoch 10/50\n",
      "\u001b[1m20/20\u001b[0m \u001b[32m━━━━━━━━━━━━━━━━━━━━\u001b[0m\u001b[37m\u001b[0m \u001b[1m0s\u001b[0m 5ms/step - accuracy: 0.5124 - loss: 0.6929 - val_accuracy: 0.5250 - val_loss: 0.6942\n",
      "Epoch 11/50\n",
      "\u001b[1m20/20\u001b[0m \u001b[32m━━━━━━━━━━━━━━━━━━━━\u001b[0m\u001b[37m\u001b[0m \u001b[1m0s\u001b[0m 5ms/step - accuracy: 0.5017 - loss: 0.6958 - val_accuracy: 0.5312 - val_loss: 0.6939\n",
      "Epoch 12/50\n",
      "\u001b[1m20/20\u001b[0m \u001b[32m━━━━━━━━━━━━━━━━━━━━\u001b[0m\u001b[37m\u001b[0m \u001b[1m0s\u001b[0m 5ms/step - accuracy: 0.5623 - loss: 0.6880 - val_accuracy: 0.5250 - val_loss: 0.6937\n",
      "Epoch 13/50\n",
      "\u001b[1m20/20\u001b[0m \u001b[32m━━━━━━━━━━━━━━━━━━━━\u001b[0m\u001b[37m\u001b[0m \u001b[1m0s\u001b[0m 5ms/step - accuracy: 0.5465 - loss: 0.6874 - val_accuracy: 0.5063 - val_loss: 0.6936\n",
      "Epoch 14/50\n",
      "\u001b[1m20/20\u001b[0m \u001b[32m━━━━━━━━━━━━━━━━━━━━\u001b[0m\u001b[37m\u001b[0m \u001b[1m0s\u001b[0m 5ms/step - accuracy: 0.5207 - loss: 0.6942 - val_accuracy: 0.5000 - val_loss: 0.6934\n",
      "Epoch 15/50\n",
      "\u001b[1m20/20\u001b[0m \u001b[32m━━━━━━━━━━━━━━━━━━━━\u001b[0m\u001b[37m\u001b[0m \u001b[1m0s\u001b[0m 5ms/step - accuracy: 0.5375 - loss: 0.6875 - val_accuracy: 0.5000 - val_loss: 0.6933\n",
      "Epoch 16/50\n",
      "\u001b[1m20/20\u001b[0m \u001b[32m━━━━━━━━━━━━━━━━━━━━\u001b[0m\u001b[37m\u001b[0m \u001b[1m0s\u001b[0m 5ms/step - accuracy: 0.5360 - loss: 0.6884 - val_accuracy: 0.5125 - val_loss: 0.6931\n",
      "Epoch 17/50\n",
      "\u001b[1m20/20\u001b[0m \u001b[32m━━━━━━━━━━━━━━━━━━━━\u001b[0m\u001b[37m\u001b[0m \u001b[1m0s\u001b[0m 6ms/step - accuracy: 0.5497 - loss: 0.6879 - val_accuracy: 0.5063 - val_loss: 0.6929\n",
      "Epoch 18/50\n",
      "\u001b[1m20/20\u001b[0m \u001b[32m━━━━━━━━━━━━━━━━━━━━\u001b[0m\u001b[37m\u001b[0m \u001b[1m0s\u001b[0m 6ms/step - accuracy: 0.5314 - loss: 0.6893 - val_accuracy: 0.5063 - val_loss: 0.6926\n",
      "Epoch 19/50\n",
      "\u001b[1m20/20\u001b[0m \u001b[32m━━━━━━━━━━━━━━━━━━━━\u001b[0m\u001b[37m\u001b[0m \u001b[1m0s\u001b[0m 5ms/step - accuracy: 0.5273 - loss: 0.6858 - val_accuracy: 0.5250 - val_loss: 0.6921\n",
      "Epoch 20/50\n",
      "\u001b[1m20/20\u001b[0m \u001b[32m━━━━━━━━━━━━━━━━━━━━\u001b[0m\u001b[37m\u001b[0m \u001b[1m0s\u001b[0m 5ms/step - accuracy: 0.5751 - loss: 0.6813 - val_accuracy: 0.5312 - val_loss: 0.6917\n",
      "Epoch 21/50\n",
      "\u001b[1m20/20\u001b[0m \u001b[32m━━━━━━━━━━━━━━━━━━━━\u001b[0m\u001b[37m\u001b[0m \u001b[1m0s\u001b[0m 5ms/step - accuracy: 0.5641 - loss: 0.6820 - val_accuracy: 0.5312 - val_loss: 0.6912\n",
      "Epoch 22/50\n",
      "\u001b[1m20/20\u001b[0m \u001b[32m━━━━━━━━━━━━━━━━━━━━\u001b[0m\u001b[37m\u001b[0m \u001b[1m0s\u001b[0m 5ms/step - accuracy: 0.5629 - loss: 0.6810 - val_accuracy: 0.5375 - val_loss: 0.6907\n",
      "Epoch 23/50\n",
      "\u001b[1m20/20\u001b[0m \u001b[32m━━━━━━━━━━━━━━━━━━━━\u001b[0m\u001b[37m\u001b[0m \u001b[1m0s\u001b[0m 5ms/step - accuracy: 0.5561 - loss: 0.6822 - val_accuracy: 0.5437 - val_loss: 0.6902\n",
      "Epoch 24/50\n",
      "\u001b[1m20/20\u001b[0m \u001b[32m━━━━━━━━━━━━━━━━━━━━\u001b[0m\u001b[37m\u001b[0m \u001b[1m0s\u001b[0m 5ms/step - accuracy: 0.5199 - loss: 0.6882 - val_accuracy: 0.5500 - val_loss: 0.6898\n",
      "Epoch 25/50\n",
      "\u001b[1m20/20\u001b[0m \u001b[32m━━━━━━━━━━━━━━━━━━━━\u001b[0m\u001b[37m\u001b[0m \u001b[1m0s\u001b[0m 5ms/step - accuracy: 0.5267 - loss: 0.6874 - val_accuracy: 0.5500 - val_loss: 0.6893\n",
      "Epoch 26/50\n",
      "\u001b[1m20/20\u001b[0m \u001b[32m━━━━━━━━━━━━━━━━━━━━\u001b[0m\u001b[37m\u001b[0m \u001b[1m0s\u001b[0m 5ms/step - accuracy: 0.5390 - loss: 0.6862 - val_accuracy: 0.5500 - val_loss: 0.6889\n",
      "Epoch 27/50\n",
      "\u001b[1m20/20\u001b[0m \u001b[32m━━━━━━━━━━━━━━━━━━━━\u001b[0m\u001b[37m\u001b[0m \u001b[1m0s\u001b[0m 5ms/step - accuracy: 0.5629 - loss: 0.6799 - val_accuracy: 0.5562 - val_loss: 0.6884\n",
      "Epoch 28/50\n",
      "\u001b[1m20/20\u001b[0m \u001b[32m━━━━━━━━━━━━━━━━━━━━\u001b[0m\u001b[37m\u001b[0m \u001b[1m0s\u001b[0m 5ms/step - accuracy: 0.5591 - loss: 0.6849 - val_accuracy: 0.5562 - val_loss: 0.6881\n",
      "Epoch 29/50\n",
      "\u001b[1m20/20\u001b[0m \u001b[32m━━━━━━━━━━━━━━━━━━━━\u001b[0m\u001b[37m\u001b[0m \u001b[1m0s\u001b[0m 5ms/step - accuracy: 0.5789 - loss: 0.6768 - val_accuracy: 0.5500 - val_loss: 0.6876\n",
      "Epoch 30/50\n",
      "\u001b[1m20/20\u001b[0m \u001b[32m━━━━━━━━━━━━━━━━━━━━\u001b[0m\u001b[37m\u001b[0m \u001b[1m0s\u001b[0m 5ms/step - accuracy: 0.5604 - loss: 0.6815 - val_accuracy: 0.5562 - val_loss: 0.6872\n",
      "Epoch 31/50\n",
      "\u001b[1m20/20\u001b[0m \u001b[32m━━━━━━━━━━━━━━━━━━━━\u001b[0m\u001b[37m\u001b[0m \u001b[1m0s\u001b[0m 5ms/step - accuracy: 0.5874 - loss: 0.6738 - val_accuracy: 0.5625 - val_loss: 0.6868\n",
      "Epoch 32/50\n",
      "\u001b[1m20/20\u001b[0m \u001b[32m━━━━━━━━━━━━━━━━━━━━\u001b[0m\u001b[37m\u001b[0m \u001b[1m0s\u001b[0m 5ms/step - accuracy: 0.5657 - loss: 0.6819 - val_accuracy: 0.5625 - val_loss: 0.6866\n",
      "Epoch 33/50\n",
      "\u001b[1m20/20\u001b[0m \u001b[32m━━━━━━━━━━━━━━━━━━━━\u001b[0m\u001b[37m\u001b[0m \u001b[1m0s\u001b[0m 5ms/step - accuracy: 0.5630 - loss: 0.6812 - val_accuracy: 0.5750 - val_loss: 0.6862\n",
      "Epoch 34/50\n",
      "\u001b[1m20/20\u001b[0m \u001b[32m━━━━━━━━━━━━━━━━━━━━\u001b[0m\u001b[37m\u001b[0m \u001b[1m0s\u001b[0m 5ms/step - accuracy: 0.5909 - loss: 0.6785 - val_accuracy: 0.5750 - val_loss: 0.6859\n",
      "Epoch 35/50\n",
      "\u001b[1m20/20\u001b[0m \u001b[32m━━━━━━━━━━━━━━━━━━━━\u001b[0m\u001b[37m\u001b[0m \u001b[1m0s\u001b[0m 6ms/step - accuracy: 0.5880 - loss: 0.6735 - val_accuracy: 0.5813 - val_loss: 0.6856\n",
      "Epoch 36/50\n",
      "\u001b[1m20/20\u001b[0m \u001b[32m━━━━━━━━━━━━━━━━━━━━\u001b[0m\u001b[37m\u001b[0m \u001b[1m0s\u001b[0m 6ms/step - accuracy: 0.6079 - loss: 0.6690 - val_accuracy: 0.5938 - val_loss: 0.6853\n",
      "Epoch 37/50\n",
      "\u001b[1m20/20\u001b[0m \u001b[32m━━━━━━━━━━━━━━━━━━━━\u001b[0m\u001b[37m\u001b[0m \u001b[1m0s\u001b[0m 5ms/step - accuracy: 0.6101 - loss: 0.6732 - val_accuracy: 0.5938 - val_loss: 0.6850\n",
      "Epoch 38/50\n",
      "\u001b[1m20/20\u001b[0m \u001b[32m━━━━━━━━━━━━━━━━━━━━\u001b[0m\u001b[37m\u001b[0m \u001b[1m0s\u001b[0m 5ms/step - accuracy: 0.6296 - loss: 0.6679 - val_accuracy: 0.6000 - val_loss: 0.6846\n",
      "Epoch 39/50\n",
      "\u001b[1m20/20\u001b[0m \u001b[32m━━━━━━━━━━━━━━━━━━━━\u001b[0m\u001b[37m\u001b[0m \u001b[1m0s\u001b[0m 6ms/step - accuracy: 0.5979 - loss: 0.6748 - val_accuracy: 0.5938 - val_loss: 0.6843\n",
      "Epoch 40/50\n",
      "\u001b[1m20/20\u001b[0m \u001b[32m━━━━━━━━━━━━━━━━━━━━\u001b[0m\u001b[37m\u001b[0m \u001b[1m0s\u001b[0m 6ms/step - accuracy: 0.6105 - loss: 0.6709 - val_accuracy: 0.5938 - val_loss: 0.6841\n",
      "Epoch 41/50\n",
      "\u001b[1m20/20\u001b[0m \u001b[32m━━━━━━━━━━━━━━━━━━━━\u001b[0m\u001b[37m\u001b[0m \u001b[1m0s\u001b[0m 6ms/step - accuracy: 0.6315 - loss: 0.6684 - val_accuracy: 0.6000 - val_loss: 0.6838\n",
      "Epoch 42/50\n",
      "\u001b[1m20/20\u001b[0m \u001b[32m━━━━━━━━━━━━━━━━━━━━\u001b[0m\u001b[37m\u001b[0m \u001b[1m0s\u001b[0m 6ms/step - accuracy: 0.6044 - loss: 0.6729 - val_accuracy: 0.5938 - val_loss: 0.6834\n",
      "Epoch 43/50\n",
      "\u001b[1m20/20\u001b[0m \u001b[32m━━━━━━━━━━━━━━━━━━━━\u001b[0m\u001b[37m\u001b[0m \u001b[1m0s\u001b[0m 6ms/step - accuracy: 0.6007 - loss: 0.6685 - val_accuracy: 0.5938 - val_loss: 0.6830\n",
      "Epoch 44/50\n",
      "\u001b[1m20/20\u001b[0m \u001b[32m━━━━━━━━━━━━━━━━━━━━\u001b[0m\u001b[37m\u001b[0m \u001b[1m0s\u001b[0m 6ms/step - accuracy: 0.6184 - loss: 0.6661 - val_accuracy: 0.5938 - val_loss: 0.6826\n",
      "Epoch 45/50\n",
      "\u001b[1m20/20\u001b[0m \u001b[32m━━━━━━━━━━━━━━━━━━━━\u001b[0m\u001b[37m\u001b[0m \u001b[1m0s\u001b[0m 6ms/step - accuracy: 0.6421 - loss: 0.6653 - val_accuracy: 0.6000 - val_loss: 0.6822\n",
      "Epoch 46/50\n",
      "\u001b[1m20/20\u001b[0m \u001b[32m━━━━━━━━━━━━━━━━━━━━\u001b[0m\u001b[37m\u001b[0m \u001b[1m0s\u001b[0m 6ms/step - accuracy: 0.6203 - loss: 0.6668 - val_accuracy: 0.6000 - val_loss: 0.6818\n",
      "Epoch 47/50\n",
      "\u001b[1m20/20\u001b[0m \u001b[32m━━━━━━━━━━━━━━━━━━━━\u001b[0m\u001b[37m\u001b[0m \u001b[1m0s\u001b[0m 5ms/step - accuracy: 0.6481 - loss: 0.6621 - val_accuracy: 0.6125 - val_loss: 0.6814\n",
      "Epoch 48/50\n",
      "\u001b[1m20/20\u001b[0m \u001b[32m━━━━━━━━━━━━━━━━━━━━\u001b[0m\u001b[37m\u001b[0m \u001b[1m0s\u001b[0m 6ms/step - accuracy: 0.6289 - loss: 0.6640 - val_accuracy: 0.6000 - val_loss: 0.6809\n",
      "Epoch 49/50\n",
      "\u001b[1m20/20\u001b[0m \u001b[32m━━━━━━━━━━━━━━━━━━━━\u001b[0m\u001b[37m\u001b[0m \u001b[1m0s\u001b[0m 6ms/step - accuracy: 0.6379 - loss: 0.6607 - val_accuracy: 0.6125 - val_loss: 0.6804\n",
      "Epoch 50/50\n",
      "\u001b[1m20/20\u001b[0m \u001b[32m━━━━━━━━━━━━━━━━━━━━\u001b[0m\u001b[37m\u001b[0m \u001b[1m0s\u001b[0m 5ms/step - accuracy: 0.6618 - loss: 0.6606 - val_accuracy: 0.6125 - val_loss: 0.6799\n"
     ]
    }
   ],
   "source": [
    "# Train the model\n",
    "history = model.fit(X_train, y_train, epochs=50, batch_size=32, validation_split=0.2, verbose=True)"
   ]
  },
  {
   "cell_type": "markdown",
   "id": "f5714f51",
   "metadata": {},
   "source": [
    "#### Evaluate The Model"
   ]
  },
  {
   "cell_type": "code",
   "execution_count": 60,
   "id": "94dfe24b",
   "metadata": {},
   "outputs": [
    {
     "name": "stdout",
     "output_type": "stream",
     "text": [
      "Test Accuracy: 0.58\n"
     ]
    }
   ],
   "source": [
    "# Evaluate the model on the test set\n",
    "test_loss, test_accuracy = model.evaluate(X_test, y_test, verbose=0)\n",
    "print(f\"Test Accuracy: {test_accuracy:.2f}\")\n",
    "\n",
    "# # Predict and calculate accuracy manually\n",
    "# y_pred = (model.predict(X_test) > 0.5).astype(int)\n",
    "# print(f\"Manual Accuracy: {accuracy_score(y_test, y_pred):.2f}\")"
   ]
  },
  {
   "cell_type": "markdown",
   "id": "a498fee5",
   "metadata": {},
   "source": [
    "## Real World Example - TensorFlow"
   ]
  },
  {
   "cell_type": "markdown",
   "id": "cfaa639b",
   "metadata": {},
   "source": [
    "#### Import Libraries"
   ]
  },
  {
   "cell_type": "code",
   "execution_count": 61,
   "id": "fc8195fe",
   "metadata": {},
   "outputs": [],
   "source": [
    "import numpy as np\n",
    "import tensorflow as tf\n",
    "from keras.models import Sequential\n",
    "from keras.layers import Dense\n",
    "from keras.optimizers import Adam\n",
    "from sklearn.datasets import load_iris\n",
    "from sklearn.model_selection import train_test_split\n",
    "from sklearn.preprocessing import OneHotEncoder, StandardScaler\n",
    "from sklearn.metrics import (\n",
    "    accuracy_score,\n",
    "    precision_score,\n",
    "    recall_score,\n",
    "    f1_score,\n",
    "    classification_report,\n",
    "    confusion_matrix,\n",
    ")"
   ]
  },
  {
   "cell_type": "markdown",
   "id": "a9c27e5e",
   "metadata": {},
   "source": [
    "#### Load The Data"
   ]
  },
  {
   "cell_type": "code",
   "execution_count": 62,
   "id": "953e7872",
   "metadata": {},
   "outputs": [],
   "source": [
    "# Load the Iris dataset\n",
    "iris = load_iris()\n",
    "X = iris.data  # Features: sepal length, sepal width, petal length, petal width\n",
    "y = iris.target  # Labels: 0 (Setosa), 1 (Versicolor), 2 (Virginica)"
   ]
  },
  {
   "cell_type": "markdown",
   "id": "5bd398cc",
   "metadata": {},
   "source": [
    "#### Prepare The Data"
   ]
  },
  {
   "cell_type": "code",
   "execution_count": 63,
   "id": "f00b41a0",
   "metadata": {},
   "outputs": [],
   "source": [
    "# One-hot encode the target variable\n",
    "encoder = OneHotEncoder(sparse_output=False)\n",
    "y_encoded = encoder.fit_transform(y.reshape(-1, 1))\n",
    "\n",
    "# Standardize the features\n",
    "scaler = StandardScaler()\n",
    "X_scaled = scaler.fit_transform(X)\n",
    "\n",
    "# Split the dataset into training and testing sets\n",
    "X_train, X_test, y_train, y_test = train_test_split(X_scaled, y_encoded, test_size=0.2, random_state=42)"
   ]
  },
  {
   "cell_type": "markdown",
   "id": "86e70d0e",
   "metadata": {},
   "source": [
    "#### Build And Compile The Model"
   ]
  },
  {
   "cell_type": "code",
   "execution_count": 64,
   "id": "47a9c472",
   "metadata": {},
   "outputs": [
    {
     "name": "stderr",
     "output_type": "stream",
     "text": [
      "/Users/jonathanschlosser/anaconda3/envs/pytorch_env/lib/python3.11/site-packages/keras/src/layers/core/dense.py:87: UserWarning: Do not pass an `input_shape`/`input_dim` argument to a layer. When using Sequential models, prefer using an `Input(shape)` object as the first layer in the model instead.\n",
      "  super().__init__(activity_regularizer=activity_regularizer, **kwargs)\n"
     ]
    }
   ],
   "source": [
    "# Build the two-layer neural network\n",
    "model = Sequential([\n",
    "    Dense(10, activation='relu', input_shape=(X.shape[1],)),  # First hidden layer with 10 neurons\n",
    "    Dense(5, activation='relu'),  # Second hidden layer with 5 neurons\n",
    "    Dense(3, activation='softmax')  # Output layer with 3 neurons for multi-class classification\n",
    "])\n",
    "\n",
    "# Compile the model\n",
    "model.compile(optimizer=Adam(learning_rate=0.01),\n",
    "              loss='categorical_crossentropy',\n",
    "              metrics=['accuracy'])"
   ]
  },
  {
   "cell_type": "markdown",
   "id": "96f454e7",
   "metadata": {},
   "source": [
    "#### Train The Model"
   ]
  },
  {
   "cell_type": "code",
   "execution_count": 65,
   "id": "1c34158e",
   "metadata": {},
   "outputs": [
    {
     "name": "stdout",
     "output_type": "stream",
     "text": [
      "Epoch 1/50\n",
      "\u001b[1m6/6\u001b[0m \u001b[32m━━━━━━━━━━━━━━━━━━━━\u001b[0m\u001b[37m\u001b[0m \u001b[1m2s\u001b[0m 57ms/step - accuracy: 0.4366 - loss: 1.0222 - val_accuracy: 0.5000 - val_loss: 0.9453\n",
      "Epoch 2/50\n",
      "\u001b[1m6/6\u001b[0m \u001b[32m━━━━━━━━━━━━━━━━━━━━\u001b[0m\u001b[37m\u001b[0m \u001b[1m0s\u001b[0m 15ms/step - accuracy: 0.6153 - loss: 0.8509 - val_accuracy: 0.8333 - val_loss: 0.8313\n",
      "Epoch 3/50\n",
      "\u001b[1m6/6\u001b[0m \u001b[32m━━━━━━━━━━━━━━━━━━━━\u001b[0m\u001b[37m\u001b[0m \u001b[1m0s\u001b[0m 16ms/step - accuracy: 0.7049 - loss: 0.7241 - val_accuracy: 0.8333 - val_loss: 0.7339\n",
      "Epoch 4/50\n",
      "\u001b[1m6/6\u001b[0m \u001b[32m━━━━━━━━━━━━━━━━━━━━\u001b[0m\u001b[37m\u001b[0m \u001b[1m0s\u001b[0m 16ms/step - accuracy: 0.8132 - loss: 0.5924 - val_accuracy: 0.7500 - val_loss: 0.6397\n",
      "Epoch 5/50\n",
      "\u001b[1m6/6\u001b[0m \u001b[32m━━━━━━━━━━━━━━━━━━━━\u001b[0m\u001b[37m\u001b[0m \u001b[1m0s\u001b[0m 16ms/step - accuracy: 0.8247 - loss: 0.5026 - val_accuracy: 0.7500 - val_loss: 0.5586\n",
      "Epoch 6/50\n",
      "\u001b[1m6/6\u001b[0m \u001b[32m━━━━━━━━━━━━━━━━━━━━\u001b[0m\u001b[37m\u001b[0m \u001b[1m0s\u001b[0m 15ms/step - accuracy: 0.8576 - loss: 0.4193 - val_accuracy: 0.7500 - val_loss: 0.4926\n",
      "Epoch 7/50\n",
      "\u001b[1m6/6\u001b[0m \u001b[32m━━━━━━━━━━━━━━━━━━━━\u001b[0m\u001b[37m\u001b[0m \u001b[1m0s\u001b[0m 15ms/step - accuracy: 0.8506 - loss: 0.3463 - val_accuracy: 0.7500 - val_loss: 0.4799\n",
      "Epoch 8/50\n",
      "\u001b[1m6/6\u001b[0m \u001b[32m━━━━━━━━━━━━━━━━━━━━\u001b[0m\u001b[37m\u001b[0m \u001b[1m0s\u001b[0m 15ms/step - accuracy: 0.8259 - loss: 0.3057 - val_accuracy: 0.7917 - val_loss: 0.4824\n",
      "Epoch 9/50\n",
      "\u001b[1m6/6\u001b[0m \u001b[32m━━━━━━━━━━━━━━━━━━━━\u001b[0m\u001b[37m\u001b[0m \u001b[1m0s\u001b[0m 15ms/step - accuracy: 0.8551 - loss: 0.2730 - val_accuracy: 0.7917 - val_loss: 0.4627\n",
      "Epoch 10/50\n",
      "\u001b[1m6/6\u001b[0m \u001b[32m━━━━━━━━━━━━━━━━━━━━\u001b[0m\u001b[37m\u001b[0m \u001b[1m0s\u001b[0m 16ms/step - accuracy: 0.8670 - loss: 0.2792 - val_accuracy: 0.8333 - val_loss: 0.4538\n",
      "Epoch 11/50\n",
      "\u001b[1m6/6\u001b[0m \u001b[32m━━━━━━━━━━━━━━━━━━━━\u001b[0m\u001b[37m\u001b[0m \u001b[1m0s\u001b[0m 17ms/step - accuracy: 0.8780 - loss: 0.2493 - val_accuracy: 0.8750 - val_loss: 0.4409\n",
      "Epoch 12/50\n",
      "\u001b[1m6/6\u001b[0m \u001b[32m━━━━━━━━━━━━━━━━━━━━\u001b[0m\u001b[37m\u001b[0m \u001b[1m0s\u001b[0m 14ms/step - accuracy: 0.9009 - loss: 0.2389 - val_accuracy: 0.8750 - val_loss: 0.4353\n",
      "Epoch 13/50\n",
      "\u001b[1m6/6\u001b[0m \u001b[32m━━━━━━━━━━━━━━━━━━━━\u001b[0m\u001b[37m\u001b[0m \u001b[1m0s\u001b[0m 18ms/step - accuracy: 0.9415 - loss: 0.2085 - val_accuracy: 0.8750 - val_loss: 0.4225\n",
      "Epoch 14/50\n",
      "\u001b[1m6/6\u001b[0m \u001b[32m━━━━━━━━━━━━━━━━━━━━\u001b[0m\u001b[37m\u001b[0m \u001b[1m0s\u001b[0m 16ms/step - accuracy: 0.9713 - loss: 0.1917 - val_accuracy: 0.9167 - val_loss: 0.4296\n",
      "Epoch 15/50\n",
      "\u001b[1m6/6\u001b[0m \u001b[32m━━━━━━━━━━━━━━━━━━━━\u001b[0m\u001b[37m\u001b[0m \u001b[1m0s\u001b[0m 16ms/step - accuracy: 0.9522 - loss: 0.1938 - val_accuracy: 0.9167 - val_loss: 0.4256\n",
      "Epoch 16/50\n",
      "\u001b[1m6/6\u001b[0m \u001b[32m━━━━━━━━━━━━━━━━━━━━\u001b[0m\u001b[37m\u001b[0m \u001b[1m0s\u001b[0m 16ms/step - accuracy: 0.9749 - loss: 0.1789 - val_accuracy: 0.9167 - val_loss: 0.3861\n",
      "Epoch 17/50\n",
      "\u001b[1m6/6\u001b[0m \u001b[32m━━━━━━━━━━━━━━━━━━━━\u001b[0m\u001b[37m\u001b[0m \u001b[1m0s\u001b[0m 16ms/step - accuracy: 0.9497 - loss: 0.1610 - val_accuracy: 0.9167 - val_loss: 0.3867\n",
      "Epoch 18/50\n",
      "\u001b[1m6/6\u001b[0m \u001b[32m━━━━━━━━━━━━━━━━━━━━\u001b[0m\u001b[37m\u001b[0m \u001b[1m0s\u001b[0m 16ms/step - accuracy: 0.9597 - loss: 0.1523 - val_accuracy: 0.9583 - val_loss: 0.3733\n",
      "Epoch 19/50\n",
      "\u001b[1m6/6\u001b[0m \u001b[32m━━━━━━━━━━━━━━━━━━━━\u001b[0m\u001b[37m\u001b[0m \u001b[1m0s\u001b[0m 16ms/step - accuracy: 0.9667 - loss: 0.1224 - val_accuracy: 0.9583 - val_loss: 0.3702\n",
      "Epoch 20/50\n",
      "\u001b[1m6/6\u001b[0m \u001b[32m━━━━━━━━━━━━━━━━━━━━\u001b[0m\u001b[37m\u001b[0m \u001b[1m0s\u001b[0m 16ms/step - accuracy: 0.9512 - loss: 0.1366 - val_accuracy: 0.9583 - val_loss: 0.3579\n",
      "Epoch 21/50\n",
      "\u001b[1m6/6\u001b[0m \u001b[32m━━━━━━━━━━━━━━━━━━━━\u001b[0m\u001b[37m\u001b[0m \u001b[1m0s\u001b[0m 16ms/step - accuracy: 0.9835 - loss: 0.0924 - val_accuracy: 0.9583 - val_loss: 0.3398\n",
      "Epoch 22/50\n",
      "\u001b[1m6/6\u001b[0m \u001b[32m━━━━━━━━━━━━━━━━━━━━\u001b[0m\u001b[37m\u001b[0m \u001b[1m0s\u001b[0m 16ms/step - accuracy: 0.9586 - loss: 0.1105 - val_accuracy: 0.9583 - val_loss: 0.3451\n",
      "Epoch 23/50\n",
      "\u001b[1m6/6\u001b[0m \u001b[32m━━━━━━━━━━━━━━━━━━━━\u001b[0m\u001b[37m\u001b[0m \u001b[1m0s\u001b[0m 16ms/step - accuracy: 0.9430 - loss: 0.1089 - val_accuracy: 0.9583 - val_loss: 0.3196\n",
      "Epoch 24/50\n",
      "\u001b[1m6/6\u001b[0m \u001b[32m━━━━━━━━━━━━━━━━━━━━\u001b[0m\u001b[37m\u001b[0m \u001b[1m0s\u001b[0m 16ms/step - accuracy: 0.9552 - loss: 0.1116 - val_accuracy: 0.9583 - val_loss: 0.3074\n",
      "Epoch 25/50\n",
      "\u001b[1m6/6\u001b[0m \u001b[32m━━━━━━━━━━━━━━━━━━━━\u001b[0m\u001b[37m\u001b[0m \u001b[1m0s\u001b[0m 17ms/step - accuracy: 0.9549 - loss: 0.1029 - val_accuracy: 0.9583 - val_loss: 0.2942\n",
      "Epoch 26/50\n",
      "\u001b[1m6/6\u001b[0m \u001b[32m━━━━━━━━━━━━━━━━━━━━\u001b[0m\u001b[37m\u001b[0m \u001b[1m0s\u001b[0m 15ms/step - accuracy: 0.9475 - loss: 0.1053 - val_accuracy: 0.9583 - val_loss: 0.3082\n",
      "Epoch 27/50\n",
      "\u001b[1m6/6\u001b[0m \u001b[32m━━━━━━━━━━━━━━━━━━━━\u001b[0m\u001b[37m\u001b[0m \u001b[1m0s\u001b[0m 17ms/step - accuracy: 0.9507 - loss: 0.0874 - val_accuracy: 0.9583 - val_loss: 0.3334\n",
      "Epoch 28/50\n",
      "\u001b[1m6/6\u001b[0m \u001b[32m━━━━━━━━━━━━━━━━━━━━\u001b[0m\u001b[37m\u001b[0m \u001b[1m0s\u001b[0m 17ms/step - accuracy: 0.9524 - loss: 0.0828 - val_accuracy: 0.9583 - val_loss: 0.2622\n",
      "Epoch 29/50\n",
      "\u001b[1m6/6\u001b[0m \u001b[32m━━━━━━━━━━━━━━━━━━━━\u001b[0m\u001b[37m\u001b[0m \u001b[1m0s\u001b[0m 16ms/step - accuracy: 0.9771 - loss: 0.0818 - val_accuracy: 0.9583 - val_loss: 0.2563\n",
      "Epoch 30/50\n",
      "\u001b[1m6/6\u001b[0m \u001b[32m━━━━━━━━━━━━━━━━━━━━\u001b[0m\u001b[37m\u001b[0m \u001b[1m0s\u001b[0m 17ms/step - accuracy: 0.9522 - loss: 0.0958 - val_accuracy: 0.9583 - val_loss: 0.2868\n",
      "Epoch 31/50\n",
      "\u001b[1m6/6\u001b[0m \u001b[32m━━━━━━━━━━━━━━━━━━━━\u001b[0m\u001b[37m\u001b[0m \u001b[1m0s\u001b[0m 16ms/step - accuracy: 0.9557 - loss: 0.0759 - val_accuracy: 0.9583 - val_loss: 0.2823\n",
      "Epoch 32/50\n",
      "\u001b[1m6/6\u001b[0m \u001b[32m━━━━━━━━━━━━━━━━━━━━\u001b[0m\u001b[37m\u001b[0m \u001b[1m0s\u001b[0m 16ms/step - accuracy: 0.9735 - loss: 0.0596 - val_accuracy: 0.9583 - val_loss: 0.2522\n",
      "Epoch 33/50\n",
      "\u001b[1m6/6\u001b[0m \u001b[32m━━━━━━━━━━━━━━━━━━━━\u001b[0m\u001b[37m\u001b[0m \u001b[1m0s\u001b[0m 16ms/step - accuracy: 0.9661 - loss: 0.0567 - val_accuracy: 0.9583 - val_loss: 0.2654\n",
      "Epoch 34/50\n",
      "\u001b[1m6/6\u001b[0m \u001b[32m━━━━━━━━━━━━━━━━━━━━\u001b[0m\u001b[37m\u001b[0m \u001b[1m0s\u001b[0m 16ms/step - accuracy: 0.9757 - loss: 0.0570 - val_accuracy: 0.9583 - val_loss: 0.2681\n",
      "Epoch 35/50\n",
      "\u001b[1m6/6\u001b[0m \u001b[32m━━━━━━━━━━━━━━━━━━━━\u001b[0m\u001b[37m\u001b[0m \u001b[1m0s\u001b[0m 16ms/step - accuracy: 0.9348 - loss: 0.0778 - val_accuracy: 0.9583 - val_loss: 0.2785\n",
      "Epoch 36/50\n",
      "\u001b[1m6/6\u001b[0m \u001b[32m━━━━━━━━━━━━━━━━━━━━\u001b[0m\u001b[37m\u001b[0m \u001b[1m0s\u001b[0m 15ms/step - accuracy: 0.9771 - loss: 0.0539 - val_accuracy: 0.9583 - val_loss: 0.2282\n",
      "Epoch 37/50\n",
      "\u001b[1m6/6\u001b[0m \u001b[32m━━━━━━━━━━━━━━━━━━━━\u001b[0m\u001b[37m\u001b[0m \u001b[1m0s\u001b[0m 15ms/step - accuracy: 0.9811 - loss: 0.0483 - val_accuracy: 0.9583 - val_loss: 0.2500\n",
      "Epoch 38/50\n",
      "\u001b[1m6/6\u001b[0m \u001b[32m━━━━━━━━━━━━━━━━━━━━\u001b[0m\u001b[37m\u001b[0m \u001b[1m0s\u001b[0m 14ms/step - accuracy: 0.9204 - loss: 0.1009 - val_accuracy: 0.9583 - val_loss: 0.2852\n",
      "Epoch 39/50\n",
      "\u001b[1m6/6\u001b[0m \u001b[32m━━━━━━━━━━━━━━━━━━━━\u001b[0m\u001b[37m\u001b[0m \u001b[1m0s\u001b[0m 14ms/step - accuracy: 0.9708 - loss: 0.0581 - val_accuracy: 0.9583 - val_loss: 0.2307\n",
      "Epoch 40/50\n",
      "\u001b[1m6/6\u001b[0m \u001b[32m━━━━━━━━━━━━━━━━━━━━\u001b[0m\u001b[37m\u001b[0m \u001b[1m0s\u001b[0m 14ms/step - accuracy: 0.9871 - loss: 0.0390 - val_accuracy: 0.9583 - val_loss: 0.2063\n",
      "Epoch 41/50\n",
      "\u001b[1m6/6\u001b[0m \u001b[32m━━━━━━━━━━━━━━━━━━━━\u001b[0m\u001b[37m\u001b[0m \u001b[1m0s\u001b[0m 14ms/step - accuracy: 0.9756 - loss: 0.0508 - val_accuracy: 0.9583 - val_loss: 0.2255\n",
      "Epoch 42/50\n",
      "\u001b[1m6/6\u001b[0m \u001b[32m━━━━━━━━━━━━━━━━━━━━\u001b[0m\u001b[37m\u001b[0m \u001b[1m0s\u001b[0m 14ms/step - accuracy: 0.9835 - loss: 0.0447 - val_accuracy: 0.9583 - val_loss: 0.2464\n",
      "Epoch 43/50\n",
      "\u001b[1m6/6\u001b[0m \u001b[32m━━━━━━━━━━━━━━━━━━━━\u001b[0m\u001b[37m\u001b[0m \u001b[1m0s\u001b[0m 14ms/step - accuracy: 0.9696 - loss: 0.0783 - val_accuracy: 0.9583 - val_loss: 0.2529\n",
      "Epoch 44/50\n",
      "\u001b[1m6/6\u001b[0m \u001b[32m━━━━━━━━━━━━━━━━━━━━\u001b[0m\u001b[37m\u001b[0m \u001b[1m0s\u001b[0m 14ms/step - accuracy: 0.9905 - loss: 0.0473 - val_accuracy: 0.9583 - val_loss: 0.2418\n",
      "Epoch 45/50\n",
      "\u001b[1m6/6\u001b[0m \u001b[32m━━━━━━━━━━━━━━━━━━━━\u001b[0m\u001b[37m\u001b[0m \u001b[1m0s\u001b[0m 14ms/step - accuracy: 0.9463 - loss: 0.0923 - val_accuracy: 0.9583 - val_loss: 0.2123\n",
      "Epoch 46/50\n",
      "\u001b[1m6/6\u001b[0m \u001b[32m━━━━━━━━━━━━━━━━━━━━\u001b[0m\u001b[37m\u001b[0m \u001b[1m0s\u001b[0m 14ms/step - accuracy: 0.9493 - loss: 0.0708 - val_accuracy: 0.9583 - val_loss: 0.2258\n",
      "Epoch 47/50\n",
      "\u001b[1m6/6\u001b[0m \u001b[32m━━━━━━━━━━━━━━━━━━━━\u001b[0m\u001b[37m\u001b[0m \u001b[1m0s\u001b[0m 14ms/step - accuracy: 0.9683 - loss: 0.0492 - val_accuracy: 0.9583 - val_loss: 0.2359\n",
      "Epoch 48/50\n",
      "\u001b[1m6/6\u001b[0m \u001b[32m━━━━━━━━━━━━━━━━━━━━\u001b[0m\u001b[37m\u001b[0m \u001b[1m0s\u001b[0m 14ms/step - accuracy: 0.9801 - loss: 0.0608 - val_accuracy: 0.9583 - val_loss: 0.2401\n",
      "Epoch 49/50\n",
      "\u001b[1m6/6\u001b[0m \u001b[32m━━━━━━━━━━━━━━━━━━━━\u001b[0m\u001b[37m\u001b[0m \u001b[1m0s\u001b[0m 14ms/step - accuracy: 0.9696 - loss: 0.0676 - val_accuracy: 0.9583 - val_loss: 0.2277\n",
      "Epoch 50/50\n",
      "\u001b[1m6/6\u001b[0m \u001b[32m━━━━━━━━━━━━━━━━━━━━\u001b[0m\u001b[37m\u001b[0m \u001b[1m0s\u001b[0m 14ms/step - accuracy: 0.9637 - loss: 0.0734 - val_accuracy: 0.9583 - val_loss: 0.2144\n"
     ]
    }
   ],
   "source": [
    "# Train the model\n",
    "history = model.fit(X_train, y_train, epochs=50, batch_size=16, validation_split=0.2, verbose=1)"
   ]
  },
  {
   "cell_type": "markdown",
   "id": "4e71ad59",
   "metadata": {},
   "source": [
    "#### Evaluate The Model"
   ]
  },
  {
   "cell_type": "code",
   "execution_count": 67,
   "id": "c0635748",
   "metadata": {},
   "outputs": [
    {
     "name": "stdout",
     "output_type": "stream",
     "text": [
      "Test Accuracy: 0.97\n"
     ]
    }
   ],
   "source": [
    "# Evaluate the model on the test set\n",
    "test_loss, test_accuracy = model.evaluate(X_test, y_test, verbose=0)\n",
    "print(f\"Test Accuracy: {test_accuracy:.2f}\")\n",
    "\n",
    "# Predict and calculate accuracy manually\n",
    "# y_pred = np.argmax(model.predict(X_test), axis=1)\n",
    "# y_true = np.argmax(y_test, axis=1)\n",
    "# print(f\"Manual Accuracy: {accuracy_score(y_true, y_pred):.2f}\")"
   ]
  },
  {
   "cell_type": "code",
   "execution_count": 68,
   "id": "4f91075d",
   "metadata": {},
   "outputs": [
    {
     "name": "stdout",
     "output_type": "stream",
     "text": [
      "Loss      : 0.0504\n",
      "Compile_metrics: 0.9667\n"
     ]
    }
   ],
   "source": [
    "results = model.evaluate(X_test, y_test, verbose=0)\n",
    "for name, value in zip(model.metrics_names, results):\n",
    "    print(f\"{name.capitalize():<10}: {value:.4f}\")"
   ]
  },
  {
   "cell_type": "code",
   "execution_count": 69,
   "id": "0e60209a",
   "metadata": {},
   "outputs": [
    {
     "name": "stdout",
     "output_type": "stream",
     "text": [
      "\u001b[1m1/1\u001b[0m \u001b[32m━━━━━━━━━━━━━━━━━━━━\u001b[0m\u001b[37m\u001b[0m \u001b[1m0s\u001b[0m 40ms/step\n",
      "\n",
      "Sklearn Metrics:\n",
      "  Accuracy      : 0.9667\n",
      "  Precision (m) : 0.9722\n",
      "  Recall    (m) : 0.9630\n",
      "  F1 Score  (m) : 0.9659\n",
      "\n",
      "Classification Report:\n",
      "              precision    recall  f1-score   support\n",
      "\n",
      "           0     1.0000    1.0000    1.0000        10\n",
      "           1     1.0000    0.8889    0.9412         9\n",
      "           2     0.9167    1.0000    0.9565        11\n",
      "\n",
      "    accuracy                         0.9667        30\n",
      "   macro avg     0.9722    0.9630    0.9659        30\n",
      "weighted avg     0.9694    0.9667    0.9664        30\n",
      "\n",
      "Confusion Matrix:\n",
      "[[10  0  0]\n",
      " [ 0  8  1]\n",
      " [ 0  0 11]]\n"
     ]
    }
   ],
   "source": [
    "y_prob = model.predict(X_test)\n",
    "y_pred = np.argmax(y_prob, axis=1)\n",
    "y_true = np.argmax(y_test, axis=1)\n",
    "\n",
    "print(\"\\nSklearn Metrics:\")\n",
    "print(f\"  Accuracy      : {accuracy_score(y_true, y_pred):.4f}\")\n",
    "print(f\"  Precision (m) : {precision_score(y_true, y_pred, average='macro'):.4f}\")\n",
    "print(f\"  Recall    (m) : {recall_score(y_true, y_pred, average='macro'):.4f}\")\n",
    "print(f\"  F1 Score  (m) : {f1_score(y_true, y_pred, average='macro'):.4f}\\n\")\n",
    "\n",
    "print(\"Classification Report:\")\n",
    "print(classification_report(y_true, y_pred, digits=4))\n",
    "\n",
    "print(\"Confusion Matrix:\")\n",
    "print(confusion_matrix(y_true, y_pred))"
   ]
  },
  {
   "cell_type": "markdown",
   "id": "640a264e",
   "metadata": {},
   "source": [
    "## Real World Example - PyTorch"
   ]
  },
  {
   "cell_type": "markdown",
   "id": "86710111",
   "metadata": {},
   "source": [
    "#### Import Libraries"
   ]
  },
  {
   "cell_type": "code",
   "execution_count": 70,
   "id": "bd0ac771",
   "metadata": {},
   "outputs": [],
   "source": [
    "import numpy as np\n",
    "import torch\n",
    "import torch.nn as nn\n",
    "import torch.optim as optim\n",
    "from sklearn.datasets import load_iris\n",
    "from sklearn.model_selection import train_test_split\n",
    "from sklearn.preprocessing import OneHotEncoder, StandardScaler"
   ]
  },
  {
   "cell_type": "markdown",
   "id": "139b30d2",
   "metadata": {},
   "source": [
    "#### Load The Data"
   ]
  },
  {
   "cell_type": "code",
   "execution_count": 71,
   "id": "65adc173",
   "metadata": {},
   "outputs": [],
   "source": [
    "iris = load_iris()\n",
    "X = iris.data                         \n",
    "y = iris.target.reshape(-1, 1)         "
   ]
  },
  {
   "cell_type": "markdown",
   "id": "8910cc5e",
   "metadata": {},
   "source": [
    "#### Prepare The Data"
   ]
  },
  {
   "cell_type": "code",
   "execution_count": 72,
   "id": "9245b83e",
   "metadata": {},
   "outputs": [],
   "source": [
    "# One-Hot Encode Target\n",
    "enc = OneHotEncoder(sparse_output=False)\n",
    "y_oh = enc.fit_transform(y)\n",
    "\n",
    "# Scale The Features\n",
    "scaler = StandardScaler()\n",
    "X_scaled = scaler.fit_transform(X)\n",
    "\n",
    "# Train/Test Split\n",
    "X_tr, X_te, y_tr, y_te = train_test_split(\n",
    "    X_scaled, y_oh, test_size=0.2, random_state=42, stratify=y)\n",
    "\n",
    "# Convert To Torch Tensors\n",
    "X_tr = torch.tensor(X_tr, dtype=torch.float32)\n",
    "y_tr = torch.tensor(y_tr, dtype=torch.float32)\n",
    "X_te = torch.tensor(X_te, dtype=torch.float32)\n",
    "y_te = torch.tensor(y_te, dtype=torch.float32)"
   ]
  },
  {
   "cell_type": "markdown",
   "id": "beb6032a",
   "metadata": {},
   "source": [
    "#### Build And Compile The Model"
   ]
  },
  {
   "cell_type": "code",
   "execution_count": 73,
   "id": "ae5e74e5",
   "metadata": {},
   "outputs": [],
   "source": [
    "# Declare The Model Structure\n",
    "model = nn.Sequential(\n",
    "    nn.Linear(4, 10),    # first hidden layer\n",
    "    nn.ReLU(),\n",
    "    nn.Linear(10, 5),    # second hidden layer\n",
    "    nn.ReLU(),\n",
    "    nn.Linear(5, 3),     # output layer\n",
    "    nn.Softmax(dim=1)    # match Keras’s softmax\n",
    ")\n",
    "\n",
    "# Set Up Loss And Optimizer\n",
    "criterion = nn.MSELoss()\n",
    "optimizer = optim.Adam(model.parameters(), lr=0.01)"
   ]
  },
  {
   "cell_type": "markdown",
   "id": "0ed686cd",
   "metadata": {},
   "source": [
    "#### Train The Model"
   ]
  },
  {
   "cell_type": "code",
   "execution_count": 74,
   "id": "12129ea9",
   "metadata": {},
   "outputs": [],
   "source": [
    "batch_size = 16\n",
    "for epoch in range(50):\n",
    "    # manually shuffle & batch\n",
    "    perm = torch.randperm(len(X_tr))\n",
    "    for i in range(0, len(X_tr), batch_size):\n",
    "        idx = perm[i:i+batch_size]\n",
    "        xb, yb = X_tr[idx], y_tr[idx]\n",
    "\n",
    "        optimizer.zero_grad()\n",
    "        y_pred = model(xb)\n",
    "        loss = criterion(y_pred, yb)\n",
    "        loss.backward()\n",
    "        optimizer.step()"
   ]
  },
  {
   "cell_type": "markdown",
   "id": "810761c4",
   "metadata": {},
   "source": [
    "#### Evaluate The Model"
   ]
  },
  {
   "cell_type": "code",
   "execution_count": 75,
   "id": "e34fbeea",
   "metadata": {},
   "outputs": [
    {
     "name": "stdout",
     "output_type": "stream",
     "text": [
      "Test Accuracy: 0.97\n"
     ]
    }
   ],
   "source": [
    "with torch.no_grad():\n",
    "    y_pred = model(X_te)\n",
    "    acc = (y_pred.argmax(dim=1) == y_te.argmax(dim=1)).float().mean()\n",
    "print(f\"Test Accuracy: {acc:.2f}\")"
   ]
  },
  {
   "cell_type": "markdown",
   "id": "a9737d8c",
   "metadata": {},
   "source": [
    "## Activation Functions\n",
    "\n",
    "In neural networks, **activation functions** determine how the weighted sum of inputs from one layer is transformed before being passed to the next layer. They introduce non-linearity into the model, enabling neural networks to learn complex patterns and approximate non-linear functions."
   ]
  },
  {
   "cell_type": "code",
   "execution_count": 48,
   "id": "5177d14f",
   "metadata": {},
   "outputs": [],
   "source": [
    "import numpy as np\n",
    "import matplotlib.pyplot as plt"
   ]
  },
  {
   "cell_type": "markdown",
   "id": "792dd480",
   "metadata": {},
   "source": [
    "### Sigmoid Function\n",
    "\n",
    "#### Definition\n",
    "\n",
    "The sigmoid function maps input values to a range between 0 and 1. It is commonly used for probabilistic tasks, such as binary classification, where the output represents a probability:\n",
    "\n",
    "$$\n",
    "\\sigma(x) = \\frac{1}{1 + e^{-x}}\n",
    "$$\n",
    "\n",
    "#### Properties\n",
    "\n",
    "- Output range: $ (0, 1) $\n",
    "- Commonly used in the output layer for binary classification problems.\n",
    "- **Limitations**:\n",
    "    - Vanishing gradient problem for large or small inputs (gradients approach 0 as $ x \\to \\pm\\infty $).\n",
    "    - Can saturate, slowing down learning.\n"
   ]
  },
  {
   "cell_type": "code",
   "execution_count": 49,
   "id": "0d85036e",
   "metadata": {},
   "outputs": [
    {
     "data": {
      "image/png": "[encoded data removed]",
      "text/plain": [
       "<Figure size 640x480 with 1 Axes>"
      ]
     },
     "metadata": {},
     "output_type": "display_data"
    }
   ],
   "source": [
    "# Define sigmoid function\n",
    "sigmoid = lambda x: 1 / (1 + np.exp(-x))\n",
    "\n",
    "# Generate data and compute sigmoid\n",
    "x = np.linspace(-10, 10, 100)\n",
    "y = sigmoid(x)\n",
    "\n",
    "# Plot sigmoid\n",
    "plt.plot(x, y)\n",
    "plt.title(\"Sigmoid Function\")\n",
    "plt.xlabel(\"Input\")\n",
    "plt.ylabel(\"Output\")\n",
    "plt.grid()\n",
    "plt.show()"
   ]
  },
  {
   "cell_type": "markdown",
   "id": "569e4a43",
   "metadata": {},
   "source": [
    "### Tanh Function\n",
    "\n",
    "#### Definition\n",
    "\n",
    "The tanh function outputs values between $-1$ and $1$, making it symmetric around zero. This makes it preferable for inputs where zero-centered output is desirable.\n",
    "\n",
    "$$\n",
    "\\tanh(x) = \\frac{e^x - e^{-x}}{e^x + e^{-x}}\n",
    "$$\n",
    "\n",
    "#### Properties\n",
    "\n",
    "- Output range: $(-1, 1)$\n",
    "- Commonly used in hidden layers.\n",
    "- **Advantages**:\n",
    "  - Zero-centered output helps gradient-based optimization converge faster.\n",
    "- **Limitations**:\n",
    "  - Still suffers from the vanishing gradient problem.\n"
   ]
  },
  {
   "cell_type": "code",
   "execution_count": 50,
   "id": "fb683812",
   "metadata": {},
   "outputs": [
    {
     "data": {
      "image/png": "[encoded data removed]",
      "text/plain": [
       "<Figure size 640x480 with 1 Axes>"
      ]
     },
     "metadata": {},
     "output_type": "display_data"
    }
   ],
   "source": [
    "# Define tanh function\n",
    "tanh = lambda x: np.tanh(x)\n",
    "\n",
    "# Generate data and compute tanh\n",
    "x = np.linspace(-10, 10, 100)\n",
    "y = tanh(x)\n",
    "\n",
    "# Plot tanh\n",
    "plt.plot(x, y)\n",
    "plt.title(\"Tanh Function\")\n",
    "plt.xlabel(\"Input\")\n",
    "plt.ylabel(\"Output\")\n",
    "plt.grid()\n",
    "plt.show()"
   ]
  },
  {
   "cell_type": "markdown",
   "id": "74bb280b",
   "metadata": {},
   "source": [
    "### ReLU (Rectified Linear Unit)\n",
    "\n",
    "#### Definition\n",
    "\n",
    "ReLU outputs the input directly if it is positive; otherwise, it outputs zero. It is the most commonly used activation function in hidden layers due to its simplicity and effectiveness.\n",
    "\n",
    "$$\n",
    "\\text{ReLU}(x) = \\max(0, x)\n",
    "$$\n",
    "\n",
    "#### Properties\n",
    "\n",
    "- Output range: $[0, \\infty)$\n",
    "- **Advantages**:\n",
    "  - Computationally efficient.\n",
    "  - Reduces the vanishing gradient problem compared to sigmoid and tanh.\n",
    "- **Limitations**:\n",
    "  - Can suffer from the **\"dead neuron\" problem** (neurons output zero for all inputs if gradients become zero).\n"
   ]
  },
  {
   "cell_type": "code",
   "execution_count": 51,
   "id": "544f36f9",
   "metadata": {},
   "outputs": [
    {
     "data": {
      "image/png": "[encoded data removed]",
      "text/plain": [
       "<Figure size 640x480 with 1 Axes>"
      ]
     },
     "metadata": {},
     "output_type": "display_data"
    }
   ],
   "source": [
    "# Define ReLU function\n",
    "relu = lambda x: np.maximum(0, x)\n",
    "\n",
    "# Generate data and compute ReLU\n",
    "x = np.linspace(-10, 10, 100)\n",
    "y = relu(x)\n",
    "\n",
    "# Plot ReLU\n",
    "plt.plot(x, y)\n",
    "plt.title(\"ReLU Function\")\n",
    "plt.xlabel(\"Input\")\n",
    "plt.ylabel(\"Output\")\n",
    "plt.grid()\n",
    "plt.show()"
   ]
  },
  {
   "cell_type": "markdown",
   "id": "a17f230e",
   "metadata": {},
   "source": [
    "### Leaky ReLU\n",
    "\n",
    "#### Definition\n",
    "\n",
    "Leaky ReLU modifies ReLU by allowing a small, non-zero gradient for negative inputs, preventing neurons from \"dying.\"\n",
    "\n",
    "$$\n",
    "\\text{Leaky ReLU}(x) = \n",
    "\\begin{cases} \n",
    "x & \\text{if } x > 0 \\\\\n",
    "\\alpha x & \\text{if } x \\leq 0\n",
    "\\end{cases}\n",
    "$$\n",
    "\n",
    "Here, $ \\alpha $ is a small constant (e.g., 0.01).\n",
    "\n",
    "#### Properties\n",
    "\n",
    "- Output range: $ (-\\infty, \\infty) $\n",
    "- **Advantages**:\n",
    "  - Mitigates the dead neuron problem.\n",
    "- **Limitations**:\n",
    "  - Introduces an additional hyperparameter ($ \\alpha $).\n"
   ]
  },
  {
   "cell_type": "code",
   "execution_count": 52,
   "id": "c576fc19",
   "metadata": {},
   "outputs": [
    {
     "data": {
      "image/png": "[encoded data removed]",
      "text/plain": [
       "<Figure size 640x480 with 1 Axes>"
      ]
     },
     "metadata": {},
     "output_type": "display_data"
    }
   ],
   "source": [
    "# Define Leaky ReLU function\n",
    "leaky_relu = lambda x, alpha=0.01: np.where(x > 0, x, alpha * x)\n",
    "\n",
    "# Generate data and compute Leaky ReLU\n",
    "x = np.linspace(-10, 10, 100)\n",
    "y = leaky_relu(x)\n",
    "\n",
    "# Plot Leaky ReLU\n",
    "plt.plot(x, y)\n",
    "plt.title(\"Leaky ReLU Function\")\n",
    "plt.xlabel(\"Input\")\n",
    "plt.ylabel(\"Output\")\n",
    "plt.grid()\n",
    "plt.show()"
   ]
  },
  {
   "cell_type": "markdown",
   "id": "eac52a39",
   "metadata": {},
   "source": [
    "## Universal Approximation Theorem\n",
    "\n",
    "The **Universal Approximation Theorem** states that a feed-forward neural network with **a single hidden layer**, containing a **finite number of neurons**, and a **non-linear activation function**, can approximate any continuous function to any desired level of accuracy on a compact domain. This demonstrates the power of neural networks to model highly complex relationships.\n",
    "\n",
    "#### Key Concepts:\n",
    "1. **Non-Linear Activation**:\n",
    "   - Non-linear activation functions (e.g., sigmoid, tanh, ReLU) are essential. Without them, the network would behave as a simple linear model, unable to capture non-linear relationships.\n",
    "   \n",
    "2. **Single Hidden Layer**:\n",
    "   - While a single hidden layer can theoretically approximate any continuous function, in practice, deep networks with multiple layers are more efficient at learning and require fewer neurons.\n",
    "\n",
    "3. **Approximation vs. Generalization**:\n",
    "   - The theorem guarantees the ability to approximate functions but does not address whether the network generalizes well to unseen data. This depends on factors like training data, optimization, and regularization.\n",
    "\n",
    "#### Practical Implications:\n",
    "Although the theorem provides a theoretical foundation, real-world neural networks often employ **deep architectures** (multiple hidden layers) to achieve better performance, especially in tasks like image recognition and natural language processing. Stacking layers enables the network to learn hierarchical representations, making it more efficient and scalable for complex problems.\n",
    "\n",
    "This theorem underscores why neural networks are such powerful tools, capable of solving a vast range of problems, as long as they are well-designed and trained properly.\n"
   ]
  },
  {
   "cell_type": "code",
   "execution_count": null,
   "id": "84251662",
   "metadata": {},
   "outputs": [],
   "source": []
  },
  {
   "cell_type": "code",
   "execution_count": null,
   "id": "9189561d",
   "metadata": {},
   "outputs": [],
   "source": []
  },
  {
   "cell_type": "code",
   "execution_count": null,
   "id": "6b0157f6",
   "metadata": {},
   "outputs": [],
   "source": []
  }
 ],
 "metadata": {
  "kernelspec": {
   "display_name": "Python [conda env:pytorch_env]",
   "language": "python",
   "name": "conda-env-pytorch_env-py"
  },
  "language_info": {
   "codemirror_mode": {
    "name": "ipython",
    "version": 3
   },
   "file_extension": ".py",
   "mimetype": "text/x-python",
   "name": "python",
   "nbconvert_exporter": "python",
   "pygments_lexer": "ipython3",
   "version": "3.11.4"
  }
 },
 "nbformat": 4,
 "nbformat_minor": 5
}
